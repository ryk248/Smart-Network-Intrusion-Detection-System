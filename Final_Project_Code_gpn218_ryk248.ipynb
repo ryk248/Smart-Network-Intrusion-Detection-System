{
 "cells": [
  {
   "cell_type": "markdown",
   "metadata": {},
   "source": [
    "<p>Team Members:\n",
    "<p>1) Geetesh Nikhade - gpn218</p>\n",
    "<p>2) Rahul Keshwani - ryk248</p>"
   ]
  },
  {
   "cell_type": "markdown",
   "metadata": {},
   "source": [
    "<p> Dataset Links:</p>\n",
    "\n",
    "[Train Data] (https://www.unsw.adfa.edu.au/unsw-canberra-cyber/cybersecurity/ADFA-NB15-Datasets/a%20part%20of%20training%20and%20testing%20set/UNSW_NB15_training-set.csv)\n",
    "\n",
    "[Test Data] (https://www.unsw.adfa.edu.au/unsw-canberra-cyber/cybersecurity/ADFA-NB15-Datasets/a%20part%20of%20training%20and%20testing%20set/UNSW_NB15_testing-set.csv)"
   ]
  },
  {
   "cell_type": "markdown",
   "metadata": {},
   "source": [
    "# Importing Libraries"
   ]
  },
  {
   "cell_type": "code",
   "execution_count": 1,
   "metadata": {
    "collapsed": true
   },
   "outputs": [],
   "source": [
    "import time\n",
    "import pandas as pd\n",
    "import scipy.stats as stats\n",
    "import matplotlib.pyplot as plt\n",
    "import numpy as np\n",
    "import seaborn as sns\n",
    "import xgboost as xgb\n",
    "from sklearn.utils import shuffle\n",
    "from sklearn.preprocessing import MinMaxScaler\n",
    "from sklearn.preprocessing import LabelEncoder\n",
    "from sklearn.decomposition import PCA\n",
    "from sklearn.model_selection import GridSearchCV\n",
    "from sklearn.ensemble import ExtraTreesClassifier\n",
    "from sklearn.ensemble import RandomForestClassifier\n",
    "from sklearn.metrics import accuracy_score\n",
    "from sklearn.metrics import confusion_matrix\n",
    "from sklearn.metrics import roc_curve, auc\n",
    "from sklearn.metrics import precision_score\n",
    "from sklearn.metrics import recall_score\n",
    "\n",
    "import warnings\n",
    "warnings.filterwarnings('ignore')"
   ]
  },
  {
   "cell_type": "markdown",
   "metadata": {},
   "source": [
    "# Reading and Manipulating data"
   ]
  },
  {
   "cell_type": "markdown",
   "metadata": {},
   "source": [
    "### 1) Training Data"
   ]
  },
  {
   "cell_type": "code",
   "execution_count": 2,
   "metadata": {},
   "outputs": [
    {
     "data": {
      "text/html": [
       "<div>\n",
       "<style>\n",
       "    .dataframe thead tr:only-child th {\n",
       "        text-align: right;\n",
       "    }\n",
       "\n",
       "    .dataframe thead th {\n",
       "        text-align: left;\n",
       "    }\n",
       "\n",
       "    .dataframe tbody tr th {\n",
       "        vertical-align: top;\n",
       "    }\n",
       "</style>\n",
       "<table border=\"1\" class=\"dataframe\">\n",
       "  <thead>\n",
       "    <tr style=\"text-align: right;\">\n",
       "      <th></th>\n",
       "      <th>id</th>\n",
       "      <th>dur</th>\n",
       "      <th>proto</th>\n",
       "      <th>service</th>\n",
       "      <th>state</th>\n",
       "      <th>spkts</th>\n",
       "      <th>dpkts</th>\n",
       "      <th>sbytes</th>\n",
       "      <th>dbytes</th>\n",
       "      <th>rate</th>\n",
       "      <th>...</th>\n",
       "      <th>ct_dst_sport_ltm</th>\n",
       "      <th>ct_dst_src_ltm</th>\n",
       "      <th>is_ftp_login</th>\n",
       "      <th>ct_ftp_cmd</th>\n",
       "      <th>ct_flw_http_mthd</th>\n",
       "      <th>ct_src_ltm</th>\n",
       "      <th>ct_srv_dst</th>\n",
       "      <th>is_sm_ips_ports</th>\n",
       "      <th>attack_cat</th>\n",
       "      <th>label</th>\n",
       "    </tr>\n",
       "  </thead>\n",
       "  <tbody>\n",
       "    <tr>\n",
       "      <th>0</th>\n",
       "      <td>74918</td>\n",
       "      <td>0.561825</td>\n",
       "      <td>tcp</td>\n",
       "      <td>-</td>\n",
       "      <td>FIN</td>\n",
       "      <td>10</td>\n",
       "      <td>6</td>\n",
       "      <td>2516</td>\n",
       "      <td>268</td>\n",
       "      <td>26.698706</td>\n",
       "      <td>...</td>\n",
       "      <td>1</td>\n",
       "      <td>2</td>\n",
       "      <td>0</td>\n",
       "      <td>0</td>\n",
       "      <td>0</td>\n",
       "      <td>1</td>\n",
       "      <td>2</td>\n",
       "      <td>0</td>\n",
       "      <td>Normal</td>\n",
       "      <td>0</td>\n",
       "    </tr>\n",
       "    <tr>\n",
       "      <th>1</th>\n",
       "      <td>17515</td>\n",
       "      <td>0.000009</td>\n",
       "      <td>udp</td>\n",
       "      <td>dns</td>\n",
       "      <td>INT</td>\n",
       "      <td>2</td>\n",
       "      <td>0</td>\n",
       "      <td>114</td>\n",
       "      <td>0</td>\n",
       "      <td>111111.107200</td>\n",
       "      <td>...</td>\n",
       "      <td>16</td>\n",
       "      <td>36</td>\n",
       "      <td>0</td>\n",
       "      <td>0</td>\n",
       "      <td>0</td>\n",
       "      <td>16</td>\n",
       "      <td>36</td>\n",
       "      <td>0</td>\n",
       "      <td>Generic</td>\n",
       "      <td>1</td>\n",
       "    </tr>\n",
       "    <tr>\n",
       "      <th>2</th>\n",
       "      <td>59762</td>\n",
       "      <td>0.000011</td>\n",
       "      <td>udp</td>\n",
       "      <td>dns</td>\n",
       "      <td>INT</td>\n",
       "      <td>2</td>\n",
       "      <td>0</td>\n",
       "      <td>114</td>\n",
       "      <td>0</td>\n",
       "      <td>90909.090200</td>\n",
       "      <td>...</td>\n",
       "      <td>2</td>\n",
       "      <td>2</td>\n",
       "      <td>0</td>\n",
       "      <td>0</td>\n",
       "      <td>0</td>\n",
       "      <td>2</td>\n",
       "      <td>9</td>\n",
       "      <td>0</td>\n",
       "      <td>Generic</td>\n",
       "      <td>1</td>\n",
       "    </tr>\n",
       "    <tr>\n",
       "      <th>3</th>\n",
       "      <td>37814</td>\n",
       "      <td>0.075200</td>\n",
       "      <td>udp</td>\n",
       "      <td>-</td>\n",
       "      <td>CON</td>\n",
       "      <td>4</td>\n",
       "      <td>4</td>\n",
       "      <td>568</td>\n",
       "      <td>312</td>\n",
       "      <td>93.085108</td>\n",
       "      <td>...</td>\n",
       "      <td>2</td>\n",
       "      <td>4</td>\n",
       "      <td>0</td>\n",
       "      <td>0</td>\n",
       "      <td>0</td>\n",
       "      <td>9</td>\n",
       "      <td>8</td>\n",
       "      <td>0</td>\n",
       "      <td>Normal</td>\n",
       "      <td>0</td>\n",
       "    </tr>\n",
       "    <tr>\n",
       "      <th>4</th>\n",
       "      <td>10853</td>\n",
       "      <td>59.478535</td>\n",
       "      <td>ospf</td>\n",
       "      <td>-</td>\n",
       "      <td>INT</td>\n",
       "      <td>80</td>\n",
       "      <td>0</td>\n",
       "      <td>21760</td>\n",
       "      <td>0</td>\n",
       "      <td>1.328210</td>\n",
       "      <td>...</td>\n",
       "      <td>1</td>\n",
       "      <td>1</td>\n",
       "      <td>0</td>\n",
       "      <td>0</td>\n",
       "      <td>0</td>\n",
       "      <td>2</td>\n",
       "      <td>1</td>\n",
       "      <td>0</td>\n",
       "      <td>Exploits</td>\n",
       "      <td>1</td>\n",
       "    </tr>\n",
       "  </tbody>\n",
       "</table>\n",
       "<p>5 rows × 45 columns</p>\n",
       "</div>"
      ],
      "text/plain": [
       "      id        dur proto service state  spkts  dpkts  sbytes  dbytes  \\\n",
       "0  74918   0.561825   tcp       -   FIN     10      6    2516     268   \n",
       "1  17515   0.000009   udp     dns   INT      2      0     114       0   \n",
       "2  59762   0.000011   udp     dns   INT      2      0     114       0   \n",
       "3  37814   0.075200   udp       -   CON      4      4     568     312   \n",
       "4  10853  59.478535  ospf       -   INT     80      0   21760       0   \n",
       "\n",
       "            rate  ...    ct_dst_sport_ltm  ct_dst_src_ltm  is_ftp_login  \\\n",
       "0      26.698706  ...                   1               2             0   \n",
       "1  111111.107200  ...                  16              36             0   \n",
       "2   90909.090200  ...                   2               2             0   \n",
       "3      93.085108  ...                   2               4             0   \n",
       "4       1.328210  ...                   1               1             0   \n",
       "\n",
       "   ct_ftp_cmd  ct_flw_http_mthd  ct_src_ltm  ct_srv_dst  is_sm_ips_ports  \\\n",
       "0           0                 0           1           2                0   \n",
       "1           0                 0          16          36                0   \n",
       "2           0                 0           2           9                0   \n",
       "3           0                 0           9           8                0   \n",
       "4           0                 0           2           1                0   \n",
       "\n",
       "   attack_cat  label  \n",
       "0      Normal      0  \n",
       "1     Generic      1  \n",
       "2     Generic      1  \n",
       "3      Normal      0  \n",
       "4    Exploits      1  \n",
       "\n",
       "[5 rows x 45 columns]"
      ]
     },
     "execution_count": 2,
     "metadata": {},
     "output_type": "execute_result"
    }
   ],
   "source": [
    "train_data = pd.read_csv(\"UNSW_NB15_training-set.csv\")\n",
    "\n",
    "#Shuffling training data to incorporate randomness\n",
    "train_data = shuffle(train_data)\n",
    "train_data.reset_index(inplace=True)\n",
    "train_data.drop('index', 1, inplace=True)\n",
    "\n",
    "#Creating a copy of data for future use\n",
    "data_copy = pd.DataFrame(train_data)\n",
    "train_data.head()"
   ]
  },
  {
   "cell_type": "markdown",
   "metadata": {},
   "source": [
    "### 2) Testing data"
   ]
  },
  {
   "cell_type": "code",
   "execution_count": 3,
   "metadata": {
    "collapsed": true
   },
   "outputs": [],
   "source": [
    "test_data = pd.read_csv(\"UNSW_NB15_testing-set.csv\")\n",
    "\n",
    "#Shuffling testing data\n",
    "test_data = shuffle(test_data)\n",
    "test_data.reset_index(inplace=True)\n",
    "test_data.drop(['id', 'index'], 1, inplace=True)"
   ]
  },
  {
   "cell_type": "code",
   "execution_count": 4,
   "metadata": {
    "collapsed": true
   },
   "outputs": [],
   "source": [
    "target = train_data.iloc[:,[-1]]\n",
    "target_category = train_data.iloc[:,[-2]]\n",
    "target_category = target_category.astype('str')\n",
    "# data.drop(['attack_cat','label','id'], 1, inplace=True)\n",
    "train_data.drop(['id'], 1, inplace=True)"
   ]
  },
  {
   "cell_type": "code",
   "execution_count": 5,
   "metadata": {
    "collapsed": true
   },
   "outputs": [],
   "source": [
    "#Separating numerical and categorical features\n",
    "\n",
    "numerical_attributes = []\n",
    "categorical_attributes = []\n",
    "for col in train_data.columns:\n",
    "    if train_data[col].dtype != object:\n",
    "        numerical_attributes.append(col)\n",
    "    else:\n",
    "        categorical_attributes.append(col)"
   ]
  },
  {
   "cell_type": "markdown",
   "metadata": {},
   "source": [
    "# Data Preprocessing"
   ]
  },
  {
   "cell_type": "markdown",
   "metadata": {},
   "source": [
    "### 1) Normalizing training data (Min-Max Normalization)"
   ]
  },
  {
   "cell_type": "code",
   "execution_count": 6,
   "metadata": {},
   "outputs": [
    {
     "data": {
      "text/html": [
       "<div>\n",
       "<style>\n",
       "    .dataframe thead tr:only-child th {\n",
       "        text-align: right;\n",
       "    }\n",
       "\n",
       "    .dataframe thead th {\n",
       "        text-align: left;\n",
       "    }\n",
       "\n",
       "    .dataframe tbody tr th {\n",
       "        vertical-align: top;\n",
       "    }\n",
       "</style>\n",
       "<table border=\"1\" class=\"dataframe\">\n",
       "  <thead>\n",
       "    <tr style=\"text-align: right;\">\n",
       "      <th></th>\n",
       "      <th>dur</th>\n",
       "      <th>spkts</th>\n",
       "      <th>dpkts</th>\n",
       "      <th>sbytes</th>\n",
       "      <th>dbytes</th>\n",
       "      <th>rate</th>\n",
       "      <th>sttl</th>\n",
       "      <th>dttl</th>\n",
       "      <th>sload</th>\n",
       "      <th>dload</th>\n",
       "      <th>...</th>\n",
       "      <th>ct_ftp_cmd</th>\n",
       "      <th>ct_flw_http_mthd</th>\n",
       "      <th>ct_src_ltm</th>\n",
       "      <th>ct_srv_dst</th>\n",
       "      <th>is_sm_ips_ports</th>\n",
       "      <th>label</th>\n",
       "      <th>proto</th>\n",
       "      <th>service</th>\n",
       "      <th>state</th>\n",
       "      <th>attack_cat</th>\n",
       "    </tr>\n",
       "  </thead>\n",
       "  <tbody>\n",
       "    <tr>\n",
       "      <th>0</th>\n",
       "      <td>9.363752e-03</td>\n",
       "      <td>0.000845</td>\n",
       "      <td>0.000545</td>\n",
       "      <td>0.000174</td>\n",
       "      <td>0.000018</td>\n",
       "      <td>0.000027</td>\n",
       "      <td>0.996078</td>\n",
       "      <td>0.996047</td>\n",
       "      <td>6.122254e-06</td>\n",
       "      <td>0.000153</td>\n",
       "      <td>...</td>\n",
       "      <td>0.0</td>\n",
       "      <td>0.0</td>\n",
       "      <td>0.000000</td>\n",
       "      <td>0.016393</td>\n",
       "      <td>0.0</td>\n",
       "      <td>0.0</td>\n",
       "      <td>tcp</td>\n",
       "      <td>-</td>\n",
       "      <td>FIN</td>\n",
       "      <td>Normal</td>\n",
       "    </tr>\n",
       "    <tr>\n",
       "      <th>1</th>\n",
       "      <td>1.500000e-07</td>\n",
       "      <td>0.000094</td>\n",
       "      <td>0.000000</td>\n",
       "      <td>0.000006</td>\n",
       "      <td>0.000000</td>\n",
       "      <td>0.111111</td>\n",
       "      <td>0.996078</td>\n",
       "      <td>0.000000</td>\n",
       "      <td>9.617817e-03</td>\n",
       "      <td>0.000000</td>\n",
       "      <td>...</td>\n",
       "      <td>0.0</td>\n",
       "      <td>0.0</td>\n",
       "      <td>0.254237</td>\n",
       "      <td>0.573770</td>\n",
       "      <td>0.0</td>\n",
       "      <td>1.0</td>\n",
       "      <td>udp</td>\n",
       "      <td>dns</td>\n",
       "      <td>INT</td>\n",
       "      <td>Generic</td>\n",
       "    </tr>\n",
       "    <tr>\n",
       "      <th>2</th>\n",
       "      <td>1.833334e-07</td>\n",
       "      <td>0.000094</td>\n",
       "      <td>0.000000</td>\n",
       "      <td>0.000006</td>\n",
       "      <td>0.000000</td>\n",
       "      <td>0.090909</td>\n",
       "      <td>0.996078</td>\n",
       "      <td>0.000000</td>\n",
       "      <td>7.869123e-03</td>\n",
       "      <td>0.000000</td>\n",
       "      <td>...</td>\n",
       "      <td>0.0</td>\n",
       "      <td>0.0</td>\n",
       "      <td>0.016949</td>\n",
       "      <td>0.131148</td>\n",
       "      <td>0.0</td>\n",
       "      <td>1.0</td>\n",
       "      <td>udp</td>\n",
       "      <td>dns</td>\n",
       "      <td>INT</td>\n",
       "      <td>Generic</td>\n",
       "    </tr>\n",
       "    <tr>\n",
       "      <th>3</th>\n",
       "      <td>1.253334e-03</td>\n",
       "      <td>0.000282</td>\n",
       "      <td>0.000363</td>\n",
       "      <td>0.000038</td>\n",
       "      <td>0.000021</td>\n",
       "      <td>0.000093</td>\n",
       "      <td>0.121569</td>\n",
       "      <td>0.114625</td>\n",
       "      <td>8.602723e-06</td>\n",
       "      <td>0.001196</td>\n",
       "      <td>...</td>\n",
       "      <td>0.0</td>\n",
       "      <td>0.0</td>\n",
       "      <td>0.135593</td>\n",
       "      <td>0.114754</td>\n",
       "      <td>0.0</td>\n",
       "      <td>0.0</td>\n",
       "      <td>udp</td>\n",
       "      <td>-</td>\n",
       "      <td>CON</td>\n",
       "      <td>Normal</td>\n",
       "    </tr>\n",
       "    <tr>\n",
       "      <th>4</th>\n",
       "      <td>9.913091e-01</td>\n",
       "      <td>0.007421</td>\n",
       "      <td>0.000000</td>\n",
       "      <td>0.001514</td>\n",
       "      <td>0.000000</td>\n",
       "      <td>0.000001</td>\n",
       "      <td>0.996078</td>\n",
       "      <td>0.000000</td>\n",
       "      <td>5.486305e-07</td>\n",
       "      <td>0.000000</td>\n",
       "      <td>...</td>\n",
       "      <td>0.0</td>\n",
       "      <td>0.0</td>\n",
       "      <td>0.016949</td>\n",
       "      <td>0.000000</td>\n",
       "      <td>0.0</td>\n",
       "      <td>1.0</td>\n",
       "      <td>ospf</td>\n",
       "      <td>-</td>\n",
       "      <td>INT</td>\n",
       "      <td>Exploits</td>\n",
       "    </tr>\n",
       "  </tbody>\n",
       "</table>\n",
       "<p>5 rows × 44 columns</p>\n",
       "</div>"
      ],
      "text/plain": [
       "            dur     spkts     dpkts    sbytes    dbytes      rate      sttl  \\\n",
       "0  9.363752e-03  0.000845  0.000545  0.000174  0.000018  0.000027  0.996078   \n",
       "1  1.500000e-07  0.000094  0.000000  0.000006  0.000000  0.111111  0.996078   \n",
       "2  1.833334e-07  0.000094  0.000000  0.000006  0.000000  0.090909  0.996078   \n",
       "3  1.253334e-03  0.000282  0.000363  0.000038  0.000021  0.000093  0.121569   \n",
       "4  9.913091e-01  0.007421  0.000000  0.001514  0.000000  0.000001  0.996078   \n",
       "\n",
       "       dttl         sload     dload     ...      ct_ftp_cmd  ct_flw_http_mthd  \\\n",
       "0  0.996047  6.122254e-06  0.000153     ...             0.0               0.0   \n",
       "1  0.000000  9.617817e-03  0.000000     ...             0.0               0.0   \n",
       "2  0.000000  7.869123e-03  0.000000     ...             0.0               0.0   \n",
       "3  0.114625  8.602723e-06  0.001196     ...             0.0               0.0   \n",
       "4  0.000000  5.486305e-07  0.000000     ...             0.0               0.0   \n",
       "\n",
       "   ct_src_ltm  ct_srv_dst  is_sm_ips_ports  label  proto  service  state  \\\n",
       "0    0.000000    0.016393              0.0    0.0    tcp        -    FIN   \n",
       "1    0.254237    0.573770              0.0    1.0    udp      dns    INT   \n",
       "2    0.016949    0.131148              0.0    1.0    udp      dns    INT   \n",
       "3    0.135593    0.114754              0.0    0.0    udp        -    CON   \n",
       "4    0.016949    0.000000              0.0    1.0   ospf        -    INT   \n",
       "\n",
       "   attack_cat  \n",
       "0      Normal  \n",
       "1     Generic  \n",
       "2     Generic  \n",
       "3      Normal  \n",
       "4    Exploits  \n",
       "\n",
       "[5 rows x 44 columns]"
      ]
     },
     "execution_count": 6,
     "metadata": {},
     "output_type": "execute_result"
    }
   ],
   "source": [
    "#Fitting Min-Max Scaler \n",
    "scaler = MinMaxScaler()\n",
    "scaler.fit(train_data[numerical_attributes])\n",
    "normalized_data = pd.DataFrame(scaler.transform(train_data[numerical_attributes]))\n",
    "normalized_data.columns = numerical_attributes\n",
    "\n",
    "#Add remaining categorical attributes to normalized data\n",
    "normalized_data['proto'] = train_data['proto']\n",
    "normalized_data['service'] = train_data['service']\n",
    "normalized_data['state'] = train_data['state']\n",
    "normalized_data['attack_cat'] = train_data['attack_cat']\n",
    "\n",
    "#Quick glance of the normalized data\n",
    "normalized_data.head()"
   ]
  },
  {
   "cell_type": "markdown",
   "metadata": {},
   "source": [
    "#### Since the features had a very varied range, we decided to perform Normalization. One reason for selecting Min-Max Normalization is, even after the scaling the data, it keeps the relationship between the original data intact."
   ]
  },
  {
   "cell_type": "markdown",
   "metadata": {},
   "source": [
    "### 2) Normalizing testing data (Min-Max Normalization)"
   ]
  },
  {
   "cell_type": "code",
   "execution_count": 7,
   "metadata": {},
   "outputs": [
    {
     "data": {
      "text/html": [
       "<div>\n",
       "<style>\n",
       "    .dataframe thead tr:only-child th {\n",
       "        text-align: right;\n",
       "    }\n",
       "\n",
       "    .dataframe thead th {\n",
       "        text-align: left;\n",
       "    }\n",
       "\n",
       "    .dataframe tbody tr th {\n",
       "        vertical-align: top;\n",
       "    }\n",
       "</style>\n",
       "<table border=\"1\" class=\"dataframe\">\n",
       "  <thead>\n",
       "    <tr style=\"text-align: right;\">\n",
       "      <th></th>\n",
       "      <th>dur</th>\n",
       "      <th>spkts</th>\n",
       "      <th>dpkts</th>\n",
       "      <th>sbytes</th>\n",
       "      <th>dbytes</th>\n",
       "      <th>rate</th>\n",
       "      <th>sttl</th>\n",
       "      <th>dttl</th>\n",
       "      <th>sload</th>\n",
       "      <th>dload</th>\n",
       "      <th>...</th>\n",
       "      <th>ct_dst_sport_ltm</th>\n",
       "      <th>ct_dst_src_ltm</th>\n",
       "      <th>is_ftp_login</th>\n",
       "      <th>ct_ftp_cmd</th>\n",
       "      <th>ct_flw_http_mthd</th>\n",
       "      <th>ct_src_ltm</th>\n",
       "      <th>ct_srv_dst</th>\n",
       "      <th>is_sm_ips_ports</th>\n",
       "      <th>label</th>\n",
       "      <th>attack_cat</th>\n",
       "    </tr>\n",
       "  </thead>\n",
       "  <tbody>\n",
       "    <tr>\n",
       "      <th>0</th>\n",
       "      <td>1.000000e-07</td>\n",
       "      <td>0.000104</td>\n",
       "      <td>0.000000</td>\n",
       "      <td>0.000006</td>\n",
       "      <td>0.000000</td>\n",
       "      <td>0.166667</td>\n",
       "      <td>0.996078</td>\n",
       "      <td>0.000000</td>\n",
       "      <td>0.011579</td>\n",
       "      <td>0.000000</td>\n",
       "      <td>...</td>\n",
       "      <td>0.000000</td>\n",
       "      <td>0.000000</td>\n",
       "      <td>0.0</td>\n",
       "      <td>0.0</td>\n",
       "      <td>0.000000</td>\n",
       "      <td>0.000000</td>\n",
       "      <td>0.000000</td>\n",
       "      <td>0.0</td>\n",
       "      <td>1.0</td>\n",
       "      <td>Exploits</td>\n",
       "    </tr>\n",
       "    <tr>\n",
       "      <th>1</th>\n",
       "      <td>1.500000e-07</td>\n",
       "      <td>0.000104</td>\n",
       "      <td>0.000000</td>\n",
       "      <td>0.000007</td>\n",
       "      <td>0.000000</td>\n",
       "      <td>0.111111</td>\n",
       "      <td>0.996078</td>\n",
       "      <td>0.000000</td>\n",
       "      <td>0.008461</td>\n",
       "      <td>0.000000</td>\n",
       "      <td>...</td>\n",
       "      <td>0.333333</td>\n",
       "      <td>0.500000</td>\n",
       "      <td>0.0</td>\n",
       "      <td>0.0</td>\n",
       "      <td>0.000000</td>\n",
       "      <td>0.254237</td>\n",
       "      <td>0.508197</td>\n",
       "      <td>0.0</td>\n",
       "      <td>1.0</td>\n",
       "      <td>Generic</td>\n",
       "    </tr>\n",
       "    <tr>\n",
       "      <th>2</th>\n",
       "      <td>2.214470e-02</td>\n",
       "      <td>0.004680</td>\n",
       "      <td>0.001093</td>\n",
       "      <td>0.003939</td>\n",
       "      <td>0.000036</td>\n",
       "      <td>0.000043</td>\n",
       "      <td>0.996078</td>\n",
       "      <td>0.992126</td>\n",
       "      <td>0.000050</td>\n",
       "      <td>0.000130</td>\n",
       "      <td>...</td>\n",
       "      <td>0.000000</td>\n",
       "      <td>0.015625</td>\n",
       "      <td>0.0</td>\n",
       "      <td>0.0</td>\n",
       "      <td>0.033333</td>\n",
       "      <td>0.000000</td>\n",
       "      <td>0.016393</td>\n",
       "      <td>0.0</td>\n",
       "      <td>1.0</td>\n",
       "      <td>Fuzzers</td>\n",
       "    </tr>\n",
       "    <tr>\n",
       "      <th>3</th>\n",
       "      <td>1.000000e-07</td>\n",
       "      <td>0.000104</td>\n",
       "      <td>0.000000</td>\n",
       "      <td>0.000013</td>\n",
       "      <td>0.000000</td>\n",
       "      <td>0.166667</td>\n",
       "      <td>0.996078</td>\n",
       "      <td>0.000000</td>\n",
       "      <td>0.022267</td>\n",
       "      <td>0.000000</td>\n",
       "      <td>...</td>\n",
       "      <td>0.022222</td>\n",
       "      <td>0.046875</td>\n",
       "      <td>0.0</td>\n",
       "      <td>0.0</td>\n",
       "      <td>0.000000</td>\n",
       "      <td>0.016949</td>\n",
       "      <td>0.049180</td>\n",
       "      <td>0.0</td>\n",
       "      <td>1.0</td>\n",
       "      <td>Reconnaissance</td>\n",
       "    </tr>\n",
       "    <tr>\n",
       "      <th>4</th>\n",
       "      <td>4.218751e-03</td>\n",
       "      <td>0.000936</td>\n",
       "      <td>0.000547</td>\n",
       "      <td>0.000061</td>\n",
       "      <td>0.000018</td>\n",
       "      <td>0.000059</td>\n",
       "      <td>0.996078</td>\n",
       "      <td>0.992126</td>\n",
       "      <td>0.000004</td>\n",
       "      <td>0.000316</td>\n",
       "      <td>...</td>\n",
       "      <td>0.000000</td>\n",
       "      <td>0.000000</td>\n",
       "      <td>0.0</td>\n",
       "      <td>0.0</td>\n",
       "      <td>0.033333</td>\n",
       "      <td>0.033898</td>\n",
       "      <td>0.000000</td>\n",
       "      <td>0.0</td>\n",
       "      <td>1.0</td>\n",
       "      <td>Reconnaissance</td>\n",
       "    </tr>\n",
       "  </tbody>\n",
       "</table>\n",
       "<p>5 rows × 41 columns</p>\n",
       "</div>"
      ],
      "text/plain": [
       "            dur     spkts     dpkts    sbytes    dbytes      rate      sttl  \\\n",
       "0  1.000000e-07  0.000104  0.000000  0.000006  0.000000  0.166667  0.996078   \n",
       "1  1.500000e-07  0.000104  0.000000  0.000007  0.000000  0.111111  0.996078   \n",
       "2  2.214470e-02  0.004680  0.001093  0.003939  0.000036  0.000043  0.996078   \n",
       "3  1.000000e-07  0.000104  0.000000  0.000013  0.000000  0.166667  0.996078   \n",
       "4  4.218751e-03  0.000936  0.000547  0.000061  0.000018  0.000059  0.996078   \n",
       "\n",
       "       dttl     sload     dload       ...        ct_dst_sport_ltm  \\\n",
       "0  0.000000  0.011579  0.000000       ...                0.000000   \n",
       "1  0.000000  0.008461  0.000000       ...                0.333333   \n",
       "2  0.992126  0.000050  0.000130       ...                0.000000   \n",
       "3  0.000000  0.022267  0.000000       ...                0.022222   \n",
       "4  0.992126  0.000004  0.000316       ...                0.000000   \n",
       "\n",
       "   ct_dst_src_ltm  is_ftp_login  ct_ftp_cmd  ct_flw_http_mthd  ct_src_ltm  \\\n",
       "0        0.000000           0.0         0.0          0.000000    0.000000   \n",
       "1        0.500000           0.0         0.0          0.000000    0.254237   \n",
       "2        0.015625           0.0         0.0          0.033333    0.000000   \n",
       "3        0.046875           0.0         0.0          0.000000    0.016949   \n",
       "4        0.000000           0.0         0.0          0.033333    0.033898   \n",
       "\n",
       "   ct_srv_dst  is_sm_ips_ports  label      attack_cat  \n",
       "0    0.000000              0.0    1.0        Exploits  \n",
       "1    0.508197              0.0    1.0         Generic  \n",
       "2    0.016393              0.0    1.0         Fuzzers  \n",
       "3    0.049180              0.0    1.0  Reconnaissance  \n",
       "4    0.000000              0.0    1.0  Reconnaissance  \n",
       "\n",
       "[5 rows x 41 columns]"
      ]
     },
     "execution_count": 7,
     "metadata": {},
     "output_type": "execute_result"
    }
   ],
   "source": [
    "scaler.fit(test_data[numerical_attributes])\n",
    "normalized_test_data = pd.DataFrame(scaler.transform(test_data[numerical_attributes]))\n",
    "normalized_test_data.columns = numerical_attributes\n",
    "\n",
    "normalized_test_data['attack_cat'] = test_data['attack_cat']\n",
    "\n",
    "normalized_test_data.head()"
   ]
  },
  {
   "cell_type": "markdown",
   "metadata": {},
   "source": [
    "### 3) Label Encoding for Attack Category"
   ]
  },
  {
   "cell_type": "code",
   "execution_count": 8,
   "metadata": {},
   "outputs": [
    {
     "data": {
      "text/html": [
       "<div>\n",
       "<style>\n",
       "    .dataframe thead tr:only-child th {\n",
       "        text-align: right;\n",
       "    }\n",
       "\n",
       "    .dataframe thead th {\n",
       "        text-align: left;\n",
       "    }\n",
       "\n",
       "    .dataframe tbody tr th {\n",
       "        vertical-align: top;\n",
       "    }\n",
       "</style>\n",
       "<table border=\"1\" class=\"dataframe\">\n",
       "  <thead>\n",
       "    <tr style=\"text-align: right;\">\n",
       "      <th></th>\n",
       "      <th>dur</th>\n",
       "      <th>spkts</th>\n",
       "      <th>dpkts</th>\n",
       "      <th>sbytes</th>\n",
       "      <th>dbytes</th>\n",
       "      <th>rate</th>\n",
       "      <th>sttl</th>\n",
       "      <th>dttl</th>\n",
       "      <th>sload</th>\n",
       "      <th>dload</th>\n",
       "      <th>...</th>\n",
       "      <th>ct_flw_http_mthd</th>\n",
       "      <th>ct_src_ltm</th>\n",
       "      <th>ct_srv_dst</th>\n",
       "      <th>is_sm_ips_ports</th>\n",
       "      <th>label</th>\n",
       "      <th>proto</th>\n",
       "      <th>service</th>\n",
       "      <th>state</th>\n",
       "      <th>attack_cat</th>\n",
       "      <th>attack_cat_labels</th>\n",
       "    </tr>\n",
       "  </thead>\n",
       "  <tbody>\n",
       "    <tr>\n",
       "      <th>0</th>\n",
       "      <td>9.363752e-03</td>\n",
       "      <td>0.000845</td>\n",
       "      <td>0.000545</td>\n",
       "      <td>0.000174</td>\n",
       "      <td>0.000018</td>\n",
       "      <td>0.000027</td>\n",
       "      <td>0.996078</td>\n",
       "      <td>0.996047</td>\n",
       "      <td>6.122254e-06</td>\n",
       "      <td>0.000153</td>\n",
       "      <td>...</td>\n",
       "      <td>0.0</td>\n",
       "      <td>0.000000</td>\n",
       "      <td>0.016393</td>\n",
       "      <td>0.0</td>\n",
       "      <td>0.0</td>\n",
       "      <td>tcp</td>\n",
       "      <td>-</td>\n",
       "      <td>FIN</td>\n",
       "      <td>Normal</td>\n",
       "      <td>6</td>\n",
       "    </tr>\n",
       "    <tr>\n",
       "      <th>1</th>\n",
       "      <td>1.500000e-07</td>\n",
       "      <td>0.000094</td>\n",
       "      <td>0.000000</td>\n",
       "      <td>0.000006</td>\n",
       "      <td>0.000000</td>\n",
       "      <td>0.111111</td>\n",
       "      <td>0.996078</td>\n",
       "      <td>0.000000</td>\n",
       "      <td>9.617817e-03</td>\n",
       "      <td>0.000000</td>\n",
       "      <td>...</td>\n",
       "      <td>0.0</td>\n",
       "      <td>0.254237</td>\n",
       "      <td>0.573770</td>\n",
       "      <td>0.0</td>\n",
       "      <td>1.0</td>\n",
       "      <td>udp</td>\n",
       "      <td>dns</td>\n",
       "      <td>INT</td>\n",
       "      <td>Generic</td>\n",
       "      <td>5</td>\n",
       "    </tr>\n",
       "    <tr>\n",
       "      <th>2</th>\n",
       "      <td>1.833334e-07</td>\n",
       "      <td>0.000094</td>\n",
       "      <td>0.000000</td>\n",
       "      <td>0.000006</td>\n",
       "      <td>0.000000</td>\n",
       "      <td>0.090909</td>\n",
       "      <td>0.996078</td>\n",
       "      <td>0.000000</td>\n",
       "      <td>7.869123e-03</td>\n",
       "      <td>0.000000</td>\n",
       "      <td>...</td>\n",
       "      <td>0.0</td>\n",
       "      <td>0.016949</td>\n",
       "      <td>0.131148</td>\n",
       "      <td>0.0</td>\n",
       "      <td>1.0</td>\n",
       "      <td>udp</td>\n",
       "      <td>dns</td>\n",
       "      <td>INT</td>\n",
       "      <td>Generic</td>\n",
       "      <td>5</td>\n",
       "    </tr>\n",
       "    <tr>\n",
       "      <th>3</th>\n",
       "      <td>1.253334e-03</td>\n",
       "      <td>0.000282</td>\n",
       "      <td>0.000363</td>\n",
       "      <td>0.000038</td>\n",
       "      <td>0.000021</td>\n",
       "      <td>0.000093</td>\n",
       "      <td>0.121569</td>\n",
       "      <td>0.114625</td>\n",
       "      <td>8.602723e-06</td>\n",
       "      <td>0.001196</td>\n",
       "      <td>...</td>\n",
       "      <td>0.0</td>\n",
       "      <td>0.135593</td>\n",
       "      <td>0.114754</td>\n",
       "      <td>0.0</td>\n",
       "      <td>0.0</td>\n",
       "      <td>udp</td>\n",
       "      <td>-</td>\n",
       "      <td>CON</td>\n",
       "      <td>Normal</td>\n",
       "      <td>6</td>\n",
       "    </tr>\n",
       "    <tr>\n",
       "      <th>4</th>\n",
       "      <td>9.913091e-01</td>\n",
       "      <td>0.007421</td>\n",
       "      <td>0.000000</td>\n",
       "      <td>0.001514</td>\n",
       "      <td>0.000000</td>\n",
       "      <td>0.000001</td>\n",
       "      <td>0.996078</td>\n",
       "      <td>0.000000</td>\n",
       "      <td>5.486305e-07</td>\n",
       "      <td>0.000000</td>\n",
       "      <td>...</td>\n",
       "      <td>0.0</td>\n",
       "      <td>0.016949</td>\n",
       "      <td>0.000000</td>\n",
       "      <td>0.0</td>\n",
       "      <td>1.0</td>\n",
       "      <td>ospf</td>\n",
       "      <td>-</td>\n",
       "      <td>INT</td>\n",
       "      <td>Exploits</td>\n",
       "      <td>3</td>\n",
       "    </tr>\n",
       "  </tbody>\n",
       "</table>\n",
       "<p>5 rows × 45 columns</p>\n",
       "</div>"
      ],
      "text/plain": [
       "            dur     spkts     dpkts    sbytes    dbytes      rate      sttl  \\\n",
       "0  9.363752e-03  0.000845  0.000545  0.000174  0.000018  0.000027  0.996078   \n",
       "1  1.500000e-07  0.000094  0.000000  0.000006  0.000000  0.111111  0.996078   \n",
       "2  1.833334e-07  0.000094  0.000000  0.000006  0.000000  0.090909  0.996078   \n",
       "3  1.253334e-03  0.000282  0.000363  0.000038  0.000021  0.000093  0.121569   \n",
       "4  9.913091e-01  0.007421  0.000000  0.001514  0.000000  0.000001  0.996078   \n",
       "\n",
       "       dttl         sload     dload        ...          ct_flw_http_mthd  \\\n",
       "0  0.996047  6.122254e-06  0.000153        ...                       0.0   \n",
       "1  0.000000  9.617817e-03  0.000000        ...                       0.0   \n",
       "2  0.000000  7.869123e-03  0.000000        ...                       0.0   \n",
       "3  0.114625  8.602723e-06  0.001196        ...                       0.0   \n",
       "4  0.000000  5.486305e-07  0.000000        ...                       0.0   \n",
       "\n",
       "   ct_src_ltm  ct_srv_dst  is_sm_ips_ports  label  proto  service  state  \\\n",
       "0    0.000000    0.016393              0.0    0.0    tcp        -    FIN   \n",
       "1    0.254237    0.573770              0.0    1.0    udp      dns    INT   \n",
       "2    0.016949    0.131148              0.0    1.0    udp      dns    INT   \n",
       "3    0.135593    0.114754              0.0    0.0    udp        -    CON   \n",
       "4    0.016949    0.000000              0.0    1.0   ospf        -    INT   \n",
       "\n",
       "   attack_cat  attack_cat_labels  \n",
       "0      Normal                  6  \n",
       "1     Generic                  5  \n",
       "2     Generic                  5  \n",
       "3      Normal                  6  \n",
       "4    Exploits                  3  \n",
       "\n",
       "[5 rows x 45 columns]"
      ]
     },
     "execution_count": 8,
     "metadata": {},
     "output_type": "execute_result"
    }
   ],
   "source": [
    "labelEncoder = LabelEncoder()\n",
    "\n",
    "# Fitting Label Encoder on Train Data\n",
    "normalized_data['attack_cat_labels'] = labelEncoder.fit_transform(normalized_data.iloc[:,-1])\n",
    "\n",
    "# Fitting Label Encoder on Test Data\n",
    "normalized_test_data['attack_cat_labels'] = labelEncoder.fit_transform(test_data.iloc[:,-2])\n",
    "\n",
    "# Keeping a mapping for each network attack category\n",
    "mapping = dict(zip(labelEncoder.transform(labelEncoder.classes_), labelEncoder.classes_))\n",
    "\n",
    "#Quick of data after Label Encoding\n",
    "normalized_data.head()"
   ]
  },
  {
   "cell_type": "markdown",
   "metadata": {},
   "source": [
    "#### Assigned a label to each attack category in order to perfrom correlation analysis and train a multiclass classification model."
   ]
  },
  {
   "cell_type": "markdown",
   "metadata": {
    "collapsed": true
   },
   "source": [
    "# Exploratory Data Analysis"
   ]
  },
  {
   "cell_type": "markdown",
   "metadata": {},
   "source": [
    "### 1) Correlation of 'label' and 'attack catgeory' with other features"
   ]
  },
  {
   "cell_type": "code",
   "execution_count": 9,
   "metadata": {},
   "outputs": [
    {
     "data": {
      "image/png": "[encoded data removed]",
      "text/plain": [
       "<matplotlib.figure.Figure at 0x11d485b70>"
      ]
     },
     "metadata": {},
     "output_type": "display_data"
    }
   ],
   "source": [
    "#Calculating corrleation\n",
    "corr = normalized_data.corr()\n",
    "\n",
    "#Plotting a heatmap for visualizing correlation.\n",
    "plt.figure(figsize=(5,10))\n",
    "colormap = sns.diverging_palette(220, 10, as_cmap=True)\n",
    "sns.heatmap(corr.iloc[:,-2:], cmap=colormap, annot=True, fmt=\".2f\")\n",
    "plt.yticks(range(len(corr.columns)), corr.columns)\n",
    "plt.xticks(range(len(corr.iloc[:,-2:].columns)), corr.iloc[:,-2:].columns)\n",
    "plt.show()"
   ]
  },
  {
   "cell_type": "markdown",
   "metadata": {},
   "source": [
    "<p>We can see that <b>label</b> is highly correlated with features like Source Time to Live <b>(sttl)</b>, Count of packets from same source/destination to the same source port/destination port<b>(ct_src_dport_ltm</b> and <b>ct_dst_sport_ltm)</b>. This basically gives us some idea about which features can contribute in classifying a network packet.</p>\n",
    "\n",
    "<p>On the other hand, <b>attack_cat_labels</b> depends on features like Destination Load <b>(dload)</b>, Source and Destination TCP window advertisement value <b>(swin</b> and <b>dwin)</b>. Based on our domain knowledge we feel that these features do not make complete sense and hence we perform <b>Feature importance</b> for each attack category in the <b>\"Feature Importances\"</b> section. </p>"
   ]
  },
  {
   "cell_type": "markdown",
   "metadata": {},
   "source": [
    "### 2) Distribution of Attack Type"
   ]
  },
  {
   "cell_type": "code",
   "execution_count": 10,
   "metadata": {},
   "outputs": [
    {
     "data": {
      "image/png": "[encoded data removed]",
      "text/plain": [
       "<matplotlib.figure.Figure at 0x114a2eba8>"
      ]
     },
     "metadata": {},
     "output_type": "display_data"
    }
   ],
   "source": [
    "attack_cat_count = target_category.groupby(['attack_cat'])['attack_cat'].count()\n",
    "x_values = list(attack_cat_count.index)\n",
    "x_pos = np.arange(len(attack_cat_count.values))\n",
    "\n",
    "plt.figure(figsize=(14,7))\n",
    "plt.bar(x_pos, list(attack_cat_count.values), align='center', alpha=0.5, color='red')\n",
    "plt.xlabel('Attack Category')\n",
    "plt.ylabel('Count')\n",
    "plt.xticks(x_pos, x_values)\n",
    "plt.show()"
   ]
  },
  {
   "cell_type": "markdown",
   "metadata": {},
   "source": [
    "<p>The above graph shows that there is imbalance in the count of each attack category. This imbalance in the data will not cause a problem while performing <b>Binary classification</b> since there is a balance bewteen the count of attack and non-attack entries.</p> \n",
    "\n",
    "<p>Although, the class imbalance can affect the predictions while performing <b>Multiclass classification</b> and can result in a higher number of <b>False Negatives</b>. Well, we can't upscale or downscale the number of samples, so we plan to do some hyperparameter tuning to attain good results.</p>"
   ]
  },
  {
   "cell_type": "markdown",
   "metadata": {},
   "source": [
    "### 3) Top 3 protocols used for each attack type"
   ]
  },
  {
   "cell_type": "code",
   "execution_count": 11,
   "metadata": {
    "collapsed": true
   },
   "outputs": [],
   "source": [
    "#Function to plot pie chart\n",
    "def plotPieChart(cat, attack_proto, i):\n",
    "    labels = list(attack_proto[cat].head(3).index)\n",
    "    sizes = list(attack_proto[cat].head(3).values)\n",
    "    colors = ['#ff9999','#66b3ff','#99ff99']\n",
    "\n",
    "    plt.subplot(4, 4, i)\n",
    "    plt.title(cat, y=1.05, fontweight='bold')\n",
    "    plt.pie(sizes, labels=labels, colors=colors, autopct='%1.1f%%', startangle=180)\n",
    "    plt.axis('equal')"
   ]
  },
  {
   "cell_type": "code",
   "execution_count": 12,
   "metadata": {},
   "outputs": [
    {
     "data": {
      "image/png": "[encoded data removed]",
      "text/plain": [
       "<matplotlib.figure.Figure at 0x115cbe588>"
      ]
     },
     "metadata": {},
     "output_type": "display_data"
    }
   ],
   "source": [
    "attack_proto = data_copy.groupby(['attack_cat','proto'])['proto'].count().sort_values(ascending=False)\n",
    "\n",
    "attack_types = target_category['attack_cat'].unique()\n",
    "count = 1\n",
    "plt.figure(figsize=(12,12))\n",
    "plt.subplots_adjust(hspace = 0.5)\n",
    "for cat in attack_types:\n",
    "    plotPieChart(cat, attack_proto, count)\n",
    "    count += 1\n",
    "plt.show()"
   ]
  },
  {
   "cell_type": "markdown",
   "metadata": {},
   "source": [
    "### 4) Average bytes transmitted from source for each attack type"
   ]
  },
  {
   "cell_type": "code",
   "execution_count": 13,
   "metadata": {},
   "outputs": [
    {
     "data": {
      "image/png": "[encoded data removed]",
      "text/plain": [
       "<matplotlib.figure.Figure at 0x115cf5b70>"
      ]
     },
     "metadata": {},
     "output_type": "display_data"
    }
   ],
   "source": [
    "avg_attack_bytes = data_copy.groupby('attack_cat')['sbytes'].mean()\n",
    "x_pos = np.arange(len(avg_attack_bytes.values))\n",
    "x_values = list(avg_attack_bytes.index)\n",
    "y_values = list(avg_attack_bytes.values)\n",
    "\n",
    "plt.figure(figsize=(14,7))\n",
    "plt.bar(x_pos, y_values, align='center', alpha=0.5, color='red')\n",
    "plt.xlabel('Attack Category')\n",
    "plt.ylabel('Avg Source bytes transmitted')\n",
    "plt.xticks(x_pos, x_values)\n",
    "plt.show()"
   ]
  },
  {
   "cell_type": "markdown",
   "metadata": {},
   "source": [
    "<p>The graph above tells us that <b>DoS</b> and <b>Exploits</b> are 2 types of network attacks which require a large number of source bytes to be transmitted from source to destination. This makes sense since these network attacks are meant to jam the network so that genuine users are unable to use the service.<p> "
   ]
  },
  {
   "cell_type": "markdown",
   "metadata": {},
   "source": [
    "### 5) Average Source to Destination Time To Live value for different attack types"
   ]
  },
  {
   "cell_type": "code",
   "execution_count": 14,
   "metadata": {},
   "outputs": [
    {
     "data": {
      "image/png": "[encoded data removed]",
      "text/plain": [
       "<matplotlib.figure.Figure at 0x112d3fe80>"
      ]
     },
     "metadata": {},
     "output_type": "display_data"
    }
   ],
   "source": [
    "avg_attack_ttl = data_copy.groupby('attack_cat')['sttl'].mean()\n",
    "x_pos = np.arange(len(avg_attack_ttl.values))\n",
    "x_values = list(avg_attack_ttl.index)\n",
    "y_values = list(avg_attack_ttl.values)\n",
    "\n",
    "plt.figure(figsize=(14,7))\n",
    "plt.bar(x_pos, y_values, align='center', alpha=0.5, color='red')\n",
    "plt.xlabel('Attack Category')\n",
    "plt.ylabel('Avg TTL value')\n",
    "plt.xticks(x_pos, x_values)\n",
    "plt.show()"
   ]
  },
  {
   "cell_type": "markdown",
   "metadata": {},
   "source": [
    "<p> Time to Live value <b>(ttl)</b> defines the hop count for a network packet and can hold a maximum value of 255. From the graph above we can see that almost every attack type has an average time to live value of around 255 which will allow them to hop on the network as far as possible. Whereas, for a normal packet it is 128 which restricts it to travel only within the continent.</p>"
   ]
  },
  {
   "cell_type": "markdown",
   "metadata": {},
   "source": [
    "# Feature Importances"
   ]
  },
  {
   "cell_type": "code",
   "execution_count": 15,
   "metadata": {
    "collapsed": true
   },
   "outputs": [],
   "source": [
    "# Function for calculating feature importances\n",
    "\n",
    "def get_feature_importance(parameter_dataset, packet_type):\n",
    "    tree_model = ExtraTreesClassifier()\n",
    "    temp_df = parameter_dataset[numerical_attributes]\n",
    "    temp_df.drop('label', axis=1, inplace=True)\n",
    "    tree_model = tree_model.fit(temp_df, parameter_dataset['label'])\n",
    "    return tree_model.feature_importances_"
   ]
  },
  {
   "cell_type": "markdown",
   "metadata": {},
   "source": [
    "<p>We are using <b>Extra Tree Classifier</b> for finding feature importances. We chose a Tree based model since it generates multiple trees and more an attribute is used to make key decisions with decision tree, the higher is the relative importance. Extra Tree Classifier also randomizes the cut point during tree construciton and hence leads to excellent variation reduction.</p>"
   ]
  },
  {
   "cell_type": "markdown",
   "metadata": {},
   "source": [
    "### 1) Overall feature importance"
   ]
  },
  {
   "cell_type": "code",
   "execution_count": 16,
   "metadata": {},
   "outputs": [
    {
     "data": {
      "image/png": "[encoded data removed]",
      "text/plain": [
       "<matplotlib.figure.Figure at 0x114256668>"
      ]
     },
     "metadata": {},
     "output_type": "display_data"
    }
   ],
   "source": [
    "#Plotting feature importances\n",
    "\n",
    "x_labels = numerical_attributes[:]\n",
    "x_labels.remove('label')\n",
    "\n",
    "feature_importances = pd.Series(get_feature_importance(normalized_data, 'Normal'), index=x_labels)\n",
    "feature_importances.nlargest(5).plot(kind='barh')\n",
    "plt.show()"
   ]
  },
  {
   "cell_type": "markdown",
   "metadata": {},
   "source": [
    "<p> The above feature importance plot gives us a basic idea that not all the features are going to be important while performing <b>Binary classification</b>. Since the 5th highest feature has received an importance of around 0.05 (which is quite low), taking any features after that will have even lesser importance and hence using 4-5 features for the classificaiton task is a good option.</p> "
   ]
  },
  {
   "cell_type": "markdown",
   "metadata": {},
   "source": [
    "### 2) Network Attack type - Feature Importance"
   ]
  },
  {
   "cell_type": "code",
   "execution_count": 17,
   "metadata": {},
   "outputs": [
    {
     "data": {
      "image/png": "[encoded data removed]",
      "text/plain": [
       "<matplotlib.figure.Figure at 0x1150d5080>"
      ]
     },
     "metadata": {},
     "output_type": "display_data"
    }
   ],
   "source": [
    "attack_types = normalized_data['attack_cat'].unique()\n",
    "\n",
    "x_labels = numerical_attributes[:]\n",
    "x_labels.remove('label')\n",
    "count = 1\n",
    "\n",
    "plt.figure(figsize=(20,15))\n",
    "plt.subplots_adjust(hspace = 0.5, wspace=0.3)\n",
    "\n",
    "for each_attack in attack_types:\n",
    "    if each_attack != 'Normal':\n",
    "        plt.subplot(3, 3, count)\n",
    "        plt.title(each_attack, y=1.05, fontweight='bold')\n",
    "        \n",
    "        data = normalized_data[(normalized_data['attack_cat'] == each_attack) | (normalized_data['attack_cat'] == 'Normal')]\n",
    "        feature_importances = pd.Series(get_feature_importance(data, each_attack), index=x_labels)\n",
    "        feature_importances.nlargest(5).plot(kind='barh')\n",
    "        count += 1\n",
    "plt.show()"
   ]
  },
  {
   "cell_type": "markdown",
   "metadata": {},
   "source": [
    "<p> The graphs above show the <b>feature importance</b> for each attack category. Although, the top feature for each attack type is different, the top 5 for each of them are mostly the same (the order of occurence is different). Hence, some of the top features are: Source Bytes <b>(sbytes)</b>, Mean packet size transmitted from source <b>(smean)</b>, Source Time to Live value <b>(sttl)</b>, Count of packets from same destination to the same source port <b>(ct_dst_sport_ltm)</b> and Number of connections between same source and destination address <b>(ct_dst_src_ltm)</b>."
   ]
  },
  {
   "cell_type": "markdown",
   "metadata": {
    "collapsed": true
   },
   "source": [
    "# Modeling the data"
   ]
  },
  {
   "cell_type": "markdown",
   "metadata": {},
   "source": [
    "#### We are going to implement 2 models for performing both Binary and Multiclass classification"
   ]
  },
  {
   "cell_type": "markdown",
   "metadata": {},
   "source": [
    "#### 1) Random Forest - We select Random Forest over Decision Trees since it overcomes the problem of overfitting by using the concept of Bagging. Since Random Forest creates multiple trees and for each of the tree it identifies the best split feature from a random subset of features, it reduces variance and hence reduces overfitting."
   ]
  },
  {
   "cell_type": "markdown",
   "metadata": {},
   "source": [
    "#### 2) XGBoost - This model is built on top of Decision Trees and the Boosting technique. XGBoost is an ensemble technique where new models are added to correct the errors made by existing models. "
   ]
  },
  {
   "cell_type": "markdown",
   "metadata": {},
   "source": [
    "### 1) Random Forest - Binary classification"
   ]
  },
  {
   "cell_type": "markdown",
   "metadata": {},
   "source": [
    "#### Performing Grid search to find best parameter combination."
   ]
  },
  {
   "cell_type": "markdown",
   "metadata": {},
   "source": [
    "<p> Commenting this section because it takes a long time to run. We ran it on <b>Google Colab</b> to get the results. You can find them attached below.</p>"
   ]
  },
  {
   "cell_type": "code",
   "execution_count": 18,
   "metadata": {},
   "outputs": [],
   "source": [
    "# parameters = {'min_samples_split':[2,10,100,200], 'min_samples_leaf':[5,10,150,200], 'max_leaf_nodes':[4,50,100,150]}\n",
    "# rf_model = RandomForestClassifier(criterion='gini', n_estimators=50)\n",
    "\n",
    "# clf = GridSearchCV(rf_model, parameters, cv=10)\n",
    "# clf.fit(normalized_data.iloc[:,:-5], normalized_data.iloc[:,-5:-4])"
   ]
  },
  {
   "cell_type": "markdown",
   "metadata": {},
   "source": [
    "<p> <b>Following is the output from Grid search.</b> </p>\n",
    "<p>GridSearchCV(cv=10, error_score='raise',</p>\n",
    "<p>       estimator=RandomForestClassifier(bootstrap=True, class_weight=None, criterion='gini',</p>\n",
    "<p>            max_depth=None, max_features='auto', max_leaf_nodes=None,</p>\n",
    "<p>            min_impurity_decrease=0.0, min_impurity_split=None,</p>\n",
    "<p>            min_samples_leaf=1, min_samples_split=2,</p>\n",
    "<p>            min_weight_fraction_leaf=0.0, n_estimators=50, n_jobs=1,</p>\n",
    "<p>            oob_score=False, random_state=None, verbose=0,</p>\n",
    "<p>            warm_start=False),</p>\n",
    "<p>       fit_params=None, iid=True, n_jobs=1,</p>\n",
    "<p>       param_grid={'min_samples_split': [2, 10, 100, 200], 'min_samples_leaf': [5, 10, 150, 200], 'max_leaf_nodes': [4, 50, 100, 150]},</p>\n",
    "<p>       pre_dispatch='2*n_jobs', refit=True, return_train_score='warn',</p>\n",
    "<p>       scoring=None, verbose=0)</p>"
   ]
  },
  {
   "cell_type": "code",
   "execution_count": 19,
   "metadata": {
    "collapsed": true
   },
   "outputs": [],
   "source": [
    "#clf.best_params_"
   ]
  },
  {
   "cell_type": "markdown",
   "metadata": {},
   "source": [
    "<p> <b>Following are the best parameters for the Random Forest Model</b></p>\n",
    "<p> {'max_leaf_nodes': 150, 'min_samples_leaf': 5, 'min_samples_split': 10} </p>"
   ]
  },
  {
   "cell_type": "markdown",
   "metadata": {},
   "source": [
    "#### Fitting the model"
   ]
  },
  {
   "cell_type": "markdown",
   "metadata": {},
   "source": [
    "<p> The parameters used with the model below were found using GridSearch (results shown above). We have limited the number of features to 4 since the overall feature importance plot gave us an idea of how many featurs to use.</p>"
   ]
  },
  {
   "cell_type": "code",
   "execution_count": 20,
   "metadata": {},
   "outputs": [
    {
     "data": {
      "text/plain": [
       "RandomForestClassifier(bootstrap=True, class_weight=None, criterion='gini',\n",
       "            max_depth=None, max_features=4, max_leaf_nodes=150,\n",
       "            min_impurity_decrease=0.0, min_impurity_split=None,\n",
       "            min_samples_leaf=5, min_samples_split=10,\n",
       "            min_weight_fraction_leaf=0.0, n_estimators=80, n_jobs=1,\n",
       "            oob_score=False, random_state=42, verbose=0, warm_start=False)"
      ]
     },
     "execution_count": 20,
     "metadata": {},
     "output_type": "execute_result"
    }
   ],
   "source": [
    "rf_binary = RandomForestClassifier(n_estimators=80, random_state=42, criterion='gini', max_leaf_nodes=150, min_samples_leaf=5, min_samples_split=10, max_features=4)\n",
    "rf_binary.fit(normalized_data.iloc[:,:-6], normalized_data.iloc[:,-6:-5])"
   ]
  },
  {
   "cell_type": "code",
   "execution_count": 21,
   "metadata": {},
   "outputs": [
    {
     "data": {
      "text/html": [
       "<div>\n",
       "<style>\n",
       "    .dataframe thead tr:only-child th {\n",
       "        text-align: right;\n",
       "    }\n",
       "\n",
       "    .dataframe thead th {\n",
       "        text-align: left;\n",
       "    }\n",
       "\n",
       "    .dataframe tbody tr th {\n",
       "        vertical-align: top;\n",
       "    }\n",
       "</style>\n",
       "<table border=\"1\" class=\"dataframe\">\n",
       "  <thead>\n",
       "    <tr style=\"text-align: right;\">\n",
       "      <th></th>\n",
       "      <th>importance</th>\n",
       "    </tr>\n",
       "  </thead>\n",
       "  <tbody>\n",
       "    <tr>\n",
       "      <th>sttl</th>\n",
       "      <td>0.104861</td>\n",
       "    </tr>\n",
       "    <tr>\n",
       "      <th>ct_dst_src_ltm</th>\n",
       "      <td>0.083504</td>\n",
       "    </tr>\n",
       "    <tr>\n",
       "      <th>ct_state_ttl</th>\n",
       "      <td>0.054986</td>\n",
       "    </tr>\n",
       "    <tr>\n",
       "      <th>sbytes</th>\n",
       "      <td>0.051820</td>\n",
       "    </tr>\n",
       "    <tr>\n",
       "      <th>smean</th>\n",
       "      <td>0.050896</td>\n",
       "    </tr>\n",
       "  </tbody>\n",
       "</table>\n",
       "</div>"
      ],
      "text/plain": [
       "                importance\n",
       "sttl              0.104861\n",
       "ct_dst_src_ltm    0.083504\n",
       "ct_state_ttl      0.054986\n",
       "sbytes            0.051820\n",
       "smean             0.050896"
      ]
     },
     "execution_count": 21,
     "metadata": {},
     "output_type": "execute_result"
    }
   ],
   "source": [
    "rf_binary_feature_importances = pd.DataFrame(rf_binary.feature_importances_, index = normalized_data.iloc[:,:-6].columns, columns=['importance']).sort_values('importance', ascending=False)\n",
    "rf_binary_feature_importances.head(5)"
   ]
  },
  {
   "cell_type": "markdown",
   "metadata": {},
   "source": [
    "#### Generating predictions"
   ]
  },
  {
   "cell_type": "code",
   "execution_count": 22,
   "metadata": {},
   "outputs": [],
   "source": [
    "rf_binary_predictions = rf_binary.predict(normalized_test_data.iloc[:,:-3])"
   ]
  },
  {
   "cell_type": "markdown",
   "metadata": {},
   "source": [
    "#### Calculating Accuracy, Precision and Recall scores"
   ]
  },
  {
   "cell_type": "code",
   "execution_count": 23,
   "metadata": {},
   "outputs": [],
   "source": [
    "# Calculating accuracy\n",
    "rf_binary_accuracy = accuracy_score(normalized_test_data.iloc[:,-3:-2], rf_binary_predictions)\n",
    "\n",
    "# Calculating precision\n",
    "rf_binary_precision = precision_score(normalized_test_data.iloc[:,-3:-2], rf_binary_predictions, average='weighted')\n",
    "\n",
    "# Calculating recall\n",
    "rf_binary_recall = recall_score(normalized_test_data.iloc[:,-3:-2], rf_binary_predictions, average='weighted')"
   ]
  },
  {
   "cell_type": "markdown",
   "metadata": {},
   "source": [
    "### 2) XGBoost - Binary Classification"
   ]
  },
  {
   "cell_type": "markdown",
   "metadata": {},
   "source": [
    "#### Performing PCA to encode 49 features into a feature space of 20 principal components"
   ]
  },
  {
   "cell_type": "markdown",
   "metadata": {},
   "source": [
    "#### PCA - The reason of doing PCA is to first reduce the dimensions by reducing the number of features. Secondly, PCA very well captures how one variable is associated to another and then maps them to a new feature space. Hence, does a good job of combining the predictors."
   ]
  },
  {
   "cell_type": "code",
   "execution_count": 24,
   "metadata": {},
   "outputs": [
    {
     "data": {
      "text/html": [
       "<div>\n",
       "<style>\n",
       "    .dataframe thead tr:only-child th {\n",
       "        text-align: right;\n",
       "    }\n",
       "\n",
       "    .dataframe thead th {\n",
       "        text-align: left;\n",
       "    }\n",
       "\n",
       "    .dataframe tbody tr th {\n",
       "        vertical-align: top;\n",
       "    }\n",
       "</style>\n",
       "<table border=\"1\" class=\"dataframe\">\n",
       "  <thead>\n",
       "    <tr style=\"text-align: right;\">\n",
       "      <th></th>\n",
       "      <th>0</th>\n",
       "      <th>1</th>\n",
       "      <th>2</th>\n",
       "      <th>3</th>\n",
       "      <th>4</th>\n",
       "      <th>5</th>\n",
       "      <th>6</th>\n",
       "      <th>7</th>\n",
       "      <th>8</th>\n",
       "      <th>9</th>\n",
       "      <th>...</th>\n",
       "      <th>11</th>\n",
       "      <th>12</th>\n",
       "      <th>13</th>\n",
       "      <th>14</th>\n",
       "      <th>15</th>\n",
       "      <th>16</th>\n",
       "      <th>17</th>\n",
       "      <th>18</th>\n",
       "      <th>19</th>\n",
       "      <th>label</th>\n",
       "    </tr>\n",
       "  </thead>\n",
       "  <tbody>\n",
       "    <tr>\n",
       "      <th>0</th>\n",
       "      <td>-0.868716</td>\n",
       "      <td>-0.512787</td>\n",
       "      <td>-0.112324</td>\n",
       "      <td>0.033466</td>\n",
       "      <td>-0.234440</td>\n",
       "      <td>0.073032</td>\n",
       "      <td>-0.081790</td>\n",
       "      <td>0.050215</td>\n",
       "      <td>0.081033</td>\n",
       "      <td>0.005153</td>\n",
       "      <td>...</td>\n",
       "      <td>0.028629</td>\n",
       "      <td>-0.010975</td>\n",
       "      <td>-0.013544</td>\n",
       "      <td>-0.007035</td>\n",
       "      <td>0.004793</td>\n",
       "      <td>-0.014606</td>\n",
       "      <td>-0.026150</td>\n",
       "      <td>-0.016321</td>\n",
       "      <td>0.001294</td>\n",
       "      <td>0</td>\n",
       "    </tr>\n",
       "    <tr>\n",
       "      <th>1</th>\n",
       "      <td>1.129507</td>\n",
       "      <td>-0.235240</td>\n",
       "      <td>0.541919</td>\n",
       "      <td>0.066288</td>\n",
       "      <td>-0.000630</td>\n",
       "      <td>-0.019814</td>\n",
       "      <td>-0.004504</td>\n",
       "      <td>-0.002674</td>\n",
       "      <td>0.027285</td>\n",
       "      <td>0.014528</td>\n",
       "      <td>...</td>\n",
       "      <td>0.175150</td>\n",
       "      <td>0.035432</td>\n",
       "      <td>-0.000055</td>\n",
       "      <td>0.014273</td>\n",
       "      <td>-0.124754</td>\n",
       "      <td>-0.043424</td>\n",
       "      <td>0.031566</td>\n",
       "      <td>-0.000947</td>\n",
       "      <td>-0.023769</td>\n",
       "      <td>1</td>\n",
       "    </tr>\n",
       "    <tr>\n",
       "      <th>2</th>\n",
       "      <td>0.875196</td>\n",
       "      <td>-0.017280</td>\n",
       "      <td>-0.356324</td>\n",
       "      <td>-0.114244</td>\n",
       "      <td>0.000584</td>\n",
       "      <td>-0.014870</td>\n",
       "      <td>-0.028280</td>\n",
       "      <td>-0.040720</td>\n",
       "      <td>0.021613</td>\n",
       "      <td>-0.025471</td>\n",
       "      <td>...</td>\n",
       "      <td>0.027121</td>\n",
       "      <td>0.006963</td>\n",
       "      <td>-0.014506</td>\n",
       "      <td>-0.000988</td>\n",
       "      <td>-0.027303</td>\n",
       "      <td>0.039837</td>\n",
       "      <td>-0.038950</td>\n",
       "      <td>-0.000146</td>\n",
       "      <td>0.019408</td>\n",
       "      <td>1</td>\n",
       "    </tr>\n",
       "    <tr>\n",
       "      <th>3</th>\n",
       "      <td>0.639253</td>\n",
       "      <td>0.681789</td>\n",
       "      <td>-0.160516</td>\n",
       "      <td>0.383142</td>\n",
       "      <td>-0.003487</td>\n",
       "      <td>-0.189475</td>\n",
       "      <td>-0.121062</td>\n",
       "      <td>0.050690</td>\n",
       "      <td>-0.094138</td>\n",
       "      <td>-0.076337</td>\n",
       "      <td>...</td>\n",
       "      <td>0.004658</td>\n",
       "      <td>-0.015092</td>\n",
       "      <td>-0.010298</td>\n",
       "      <td>-0.014680</td>\n",
       "      <td>0.089557</td>\n",
       "      <td>-0.077313</td>\n",
       "      <td>-0.031635</td>\n",
       "      <td>-0.006099</td>\n",
       "      <td>-0.026306</td>\n",
       "      <td>0</td>\n",
       "    </tr>\n",
       "    <tr>\n",
       "      <th>4</th>\n",
       "      <td>0.819580</td>\n",
       "      <td>0.005650</td>\n",
       "      <td>-0.506277</td>\n",
       "      <td>-0.107529</td>\n",
       "      <td>0.001734</td>\n",
       "      <td>-0.000040</td>\n",
       "      <td>0.035115</td>\n",
       "      <td>0.105919</td>\n",
       "      <td>0.034869</td>\n",
       "      <td>0.148769</td>\n",
       "      <td>...</td>\n",
       "      <td>-0.209011</td>\n",
       "      <td>0.288038</td>\n",
       "      <td>0.857432</td>\n",
       "      <td>-0.057363</td>\n",
       "      <td>0.036974</td>\n",
       "      <td>-0.034983</td>\n",
       "      <td>0.051976</td>\n",
       "      <td>-0.113118</td>\n",
       "      <td>0.020571</td>\n",
       "      <td>1</td>\n",
       "    </tr>\n",
       "  </tbody>\n",
       "</table>\n",
       "<p>5 rows × 21 columns</p>\n",
       "</div>"
      ],
      "text/plain": [
       "          0         1         2         3         4         5         6  \\\n",
       "0 -0.868716 -0.512787 -0.112324  0.033466 -0.234440  0.073032 -0.081790   \n",
       "1  1.129507 -0.235240  0.541919  0.066288 -0.000630 -0.019814 -0.004504   \n",
       "2  0.875196 -0.017280 -0.356324 -0.114244  0.000584 -0.014870 -0.028280   \n",
       "3  0.639253  0.681789 -0.160516  0.383142 -0.003487 -0.189475 -0.121062   \n",
       "4  0.819580  0.005650 -0.506277 -0.107529  0.001734 -0.000040  0.035115   \n",
       "\n",
       "          7         8         9  ...          11        12        13  \\\n",
       "0  0.050215  0.081033  0.005153  ...    0.028629 -0.010975 -0.013544   \n",
       "1 -0.002674  0.027285  0.014528  ...    0.175150  0.035432 -0.000055   \n",
       "2 -0.040720  0.021613 -0.025471  ...    0.027121  0.006963 -0.014506   \n",
       "3  0.050690 -0.094138 -0.076337  ...    0.004658 -0.015092 -0.010298   \n",
       "4  0.105919  0.034869  0.148769  ...   -0.209011  0.288038  0.857432   \n",
       "\n",
       "         14        15        16        17        18        19  label  \n",
       "0 -0.007035  0.004793 -0.014606 -0.026150 -0.016321  0.001294      0  \n",
       "1  0.014273 -0.124754 -0.043424  0.031566 -0.000947 -0.023769      1  \n",
       "2 -0.000988 -0.027303  0.039837 -0.038950 -0.000146  0.019408      1  \n",
       "3 -0.014680  0.089557 -0.077313 -0.031635 -0.006099 -0.026306      0  \n",
       "4 -0.057363  0.036974 -0.034983  0.051976 -0.113118  0.020571      1  \n",
       "\n",
       "[5 rows x 21 columns]"
      ]
     },
     "execution_count": 24,
     "metadata": {},
     "output_type": "execute_result"
    }
   ],
   "source": [
    "pca = PCA(n_components=20)\n",
    "principal_components = pca.fit_transform(normalized_data[numerical_attributes].drop(['label'], axis=1))\n",
    "principal_components = pd.DataFrame(principal_components)\n",
    "principal_components = pd.concat([principal_components, target], axis=1)\n",
    "principal_components.head()"
   ]
  },
  {
   "cell_type": "markdown",
   "metadata": {},
   "source": [
    "#### Applying PCA to test data"
   ]
  },
  {
   "cell_type": "code",
   "execution_count": 25,
   "metadata": {},
   "outputs": [
    {
     "data": {
      "text/html": [
       "<div>\n",
       "<style>\n",
       "    .dataframe thead tr:only-child th {\n",
       "        text-align: right;\n",
       "    }\n",
       "\n",
       "    .dataframe thead th {\n",
       "        text-align: left;\n",
       "    }\n",
       "\n",
       "    .dataframe tbody tr th {\n",
       "        vertical-align: top;\n",
       "    }\n",
       "</style>\n",
       "<table border=\"1\" class=\"dataframe\">\n",
       "  <thead>\n",
       "    <tr style=\"text-align: right;\">\n",
       "      <th></th>\n",
       "      <th>0</th>\n",
       "      <th>1</th>\n",
       "      <th>2</th>\n",
       "      <th>3</th>\n",
       "      <th>4</th>\n",
       "      <th>5</th>\n",
       "      <th>6</th>\n",
       "      <th>7</th>\n",
       "      <th>8</th>\n",
       "      <th>9</th>\n",
       "      <th>10</th>\n",
       "      <th>11</th>\n",
       "      <th>12</th>\n",
       "      <th>13</th>\n",
       "      <th>14</th>\n",
       "      <th>15</th>\n",
       "      <th>16</th>\n",
       "      <th>17</th>\n",
       "      <th>18</th>\n",
       "      <th>19</th>\n",
       "    </tr>\n",
       "  </thead>\n",
       "  <tbody>\n",
       "    <tr>\n",
       "      <th>0</th>\n",
       "      <td>-0.741747</td>\n",
       "      <td>0.007253</td>\n",
       "      <td>-0.468320</td>\n",
       "      <td>-0.180085</td>\n",
       "      <td>-0.001799</td>\n",
       "      <td>0.023978</td>\n",
       "      <td>-0.047536</td>\n",
       "      <td>0.007488</td>\n",
       "      <td>-0.019354</td>\n",
       "      <td>-0.051420</td>\n",
       "      <td>0.009548</td>\n",
       "      <td>-0.029444</td>\n",
       "      <td>-0.042385</td>\n",
       "      <td>-0.004248</td>\n",
       "      <td>-0.014756</td>\n",
       "      <td>0.019197</td>\n",
       "      <td>0.005247</td>\n",
       "      <td>-0.018375</td>\n",
       "      <td>0.004055</td>\n",
       "      <td>-0.006281</td>\n",
       "    </tr>\n",
       "    <tr>\n",
       "      <th>1</th>\n",
       "      <td>-1.003347</td>\n",
       "      <td>-0.210202</td>\n",
       "      <td>0.465627</td>\n",
       "      <td>0.073717</td>\n",
       "      <td>0.000789</td>\n",
       "      <td>-0.009644</td>\n",
       "      <td>0.012666</td>\n",
       "      <td>0.017462</td>\n",
       "      <td>-0.096896</td>\n",
       "      <td>-0.009963</td>\n",
       "      <td>-0.055296</td>\n",
       "      <td>0.149692</td>\n",
       "      <td>0.024876</td>\n",
       "      <td>-0.018206</td>\n",
       "      <td>-0.051854</td>\n",
       "      <td>-0.065668</td>\n",
       "      <td>-0.002153</td>\n",
       "      <td>0.013589</td>\n",
       "      <td>-0.003256</td>\n",
       "      <td>0.021642</td>\n",
       "    </tr>\n",
       "    <tr>\n",
       "      <th>2</th>\n",
       "      <td>1.013201</td>\n",
       "      <td>-0.607204</td>\n",
       "      <td>-0.189022</td>\n",
       "      <td>0.012147</td>\n",
       "      <td>-0.221019</td>\n",
       "      <td>-0.010550</td>\n",
       "      <td>0.419497</td>\n",
       "      <td>-0.176460</td>\n",
       "      <td>0.021411</td>\n",
       "      <td>0.323873</td>\n",
       "      <td>-0.223779</td>\n",
       "      <td>-0.079651</td>\n",
       "      <td>-0.003516</td>\n",
       "      <td>0.004144</td>\n",
       "      <td>-0.029724</td>\n",
       "      <td>-0.007740</td>\n",
       "      <td>0.003389</td>\n",
       "      <td>0.026235</td>\n",
       "      <td>-0.004943</td>\n",
       "      <td>-0.004604</td>\n",
       "    </tr>\n",
       "    <tr>\n",
       "      <th>3</th>\n",
       "      <td>-0.763586</td>\n",
       "      <td>-0.012516</td>\n",
       "      <td>-0.391475</td>\n",
       "      <td>-0.160597</td>\n",
       "      <td>-0.001431</td>\n",
       "      <td>0.020451</td>\n",
       "      <td>-0.022132</td>\n",
       "      <td>-0.002241</td>\n",
       "      <td>-0.019024</td>\n",
       "      <td>-0.026265</td>\n",
       "      <td>-0.008660</td>\n",
       "      <td>-0.004241</td>\n",
       "      <td>-0.034688</td>\n",
       "      <td>-0.006197</td>\n",
       "      <td>-0.014633</td>\n",
       "      <td>0.012539</td>\n",
       "      <td>0.006221</td>\n",
       "      <td>-0.016136</td>\n",
       "      <td>0.004270</td>\n",
       "      <td>-0.005209</td>\n",
       "    </tr>\n",
       "    <tr>\n",
       "      <th>4</th>\n",
       "      <td>0.913704</td>\n",
       "      <td>-0.569783</td>\n",
       "      <td>-0.193126</td>\n",
       "      <td>0.088870</td>\n",
       "      <td>0.398550</td>\n",
       "      <td>0.186009</td>\n",
       "      <td>-0.001690</td>\n",
       "      <td>0.051852</td>\n",
       "      <td>-0.005740</td>\n",
       "      <td>-0.122719</td>\n",
       "      <td>-0.018712</td>\n",
       "      <td>-0.049053</td>\n",
       "      <td>0.025422</td>\n",
       "      <td>0.000941</td>\n",
       "      <td>0.010303</td>\n",
       "      <td>-0.003716</td>\n",
       "      <td>-0.010889</td>\n",
       "      <td>0.003459</td>\n",
       "      <td>-0.013823</td>\n",
       "      <td>0.007161</td>\n",
       "    </tr>\n",
       "  </tbody>\n",
       "</table>\n",
       "</div>"
      ],
      "text/plain": [
       "         0         1         2         3         4         5         6   \\\n",
       "0 -0.741747  0.007253 -0.468320 -0.180085 -0.001799  0.023978 -0.047536   \n",
       "1 -1.003347 -0.210202  0.465627  0.073717  0.000789 -0.009644  0.012666   \n",
       "2  1.013201 -0.607204 -0.189022  0.012147 -0.221019 -0.010550  0.419497   \n",
       "3 -0.763586 -0.012516 -0.391475 -0.160597 -0.001431  0.020451 -0.022132   \n",
       "4  0.913704 -0.569783 -0.193126  0.088870  0.398550  0.186009 -0.001690   \n",
       "\n",
       "         7         8         9         10        11        12        13  \\\n",
       "0  0.007488 -0.019354 -0.051420  0.009548 -0.029444 -0.042385 -0.004248   \n",
       "1  0.017462 -0.096896 -0.009963 -0.055296  0.149692  0.024876 -0.018206   \n",
       "2 -0.176460  0.021411  0.323873 -0.223779 -0.079651 -0.003516  0.004144   \n",
       "3 -0.002241 -0.019024 -0.026265 -0.008660 -0.004241 -0.034688 -0.006197   \n",
       "4  0.051852 -0.005740 -0.122719 -0.018712 -0.049053  0.025422  0.000941   \n",
       "\n",
       "         14        15        16        17        18        19  \n",
       "0 -0.014756  0.019197  0.005247 -0.018375  0.004055 -0.006281  \n",
       "1 -0.051854 -0.065668 -0.002153  0.013589 -0.003256  0.021642  \n",
       "2 -0.029724 -0.007740  0.003389  0.026235 -0.004943 -0.004604  \n",
       "3 -0.014633  0.012539  0.006221 -0.016136  0.004270 -0.005209  \n",
       "4  0.010303 -0.003716 -0.010889  0.003459 -0.013823  0.007161  "
      ]
     },
     "execution_count": 25,
     "metadata": {},
     "output_type": "execute_result"
    }
   ],
   "source": [
    "test_components = pca.fit_transform(normalized_test_data.iloc[:,:-3])\n",
    "test_components = pd.DataFrame(test_components)\n",
    "test_components.head()"
   ]
  },
  {
   "cell_type": "markdown",
   "metadata": {},
   "source": [
    "#### Creating DMatrix which works as an input for XGBoost Classifier. Also, setting parameters for the model"
   ]
  },
  {
   "cell_type": "markdown",
   "metadata": {},
   "source": [
    "#### Parameter selection - \n",
    "#### 1) max_depth = 4 -> SInce we are selecting top 5 eigen vectors, we go ahead with a maximum depth of 4.\n",
    "#### 2) objective = 'binary:logistic' -> The following objective function us used since we are performing Binary classification and since we want the output as class probabilities and not simply labels.\n",
    "#### 3) colsample_bytree = 0.4 -> To avoid some columns from taking too much credit for prediction, we keep this value to be 0.4 and not more."
   ]
  },
  {
   "cell_type": "code",
   "execution_count": 26,
   "metadata": {},
   "outputs": [],
   "source": [
    "# Creating DMatrix for train and test data.\n",
    "dtrain = xgb.DMatrix(principal_components.iloc[:,:5], label=principal_components['label'])\n",
    "dtest = xgb.DMatrix(test_components.iloc[:,:5], label=normalized_test_data.iloc[:,-3])\n",
    "\n",
    "# Parameters for the model\n",
    "param = {'colsample_bytree': 0.4,\n",
    "         'silent': True,\n",
    "         'max_depth': 4,\n",
    "         'objective':'binary:logistic'\n",
    "        }\n",
    "num_rounds = 18"
   ]
  },
  {
   "cell_type": "markdown",
   "metadata": {},
   "source": [
    "#### Fitting the model"
   ]
  },
  {
   "cell_type": "code",
   "execution_count": 27,
   "metadata": {},
   "outputs": [],
   "source": [
    "xgb_binary = xgb.train(param, dtrain, num_rounds)\n",
    "\n",
    "##Feature importances\n",
    "# xgb.plot_importance(xgbModel)\n",
    "# plt.show()"
   ]
  },
  {
   "cell_type": "markdown",
   "metadata": {},
   "source": [
    "#### Generating predictions and converting class probabilities to class labels"
   ]
  },
  {
   "cell_type": "code",
   "execution_count": 28,
   "metadata": {},
   "outputs": [],
   "source": [
    "# Generating predictions\n",
    "xgb_binary_predictions = xgb_binary.predict(dtest)\n",
    "\n",
    "# Since the model outputs class probabilities, here we assign labels to the results.\n",
    "# Probability >= 0.5 -> Class label = 1\n",
    "# Probability < 0.5 -> Class label = 0\n",
    "xgb_binary_predictions[xgb_binary_predictions >= 0.5] = 1\n",
    "xgb_binary_predictions[xgb_binary_predictions < 0.5] = 0"
   ]
  },
  {
   "cell_type": "markdown",
   "metadata": {},
   "source": [
    "#### Calculating Accuracy, Precision and Recall score"
   ]
  },
  {
   "cell_type": "code",
   "execution_count": 29,
   "metadata": {
    "collapsed": true
   },
   "outputs": [],
   "source": [
    "# Calculating Accuracy\n",
    "xgb_binary_accuracy = accuracy_score(normalized_test_data.iloc[:,-3], xgb_binary_predictions)\n",
    "\n",
    "# Calculating Precision\n",
    "xgb_binary_precision = precision_score(normalized_test_data.iloc[:,-3], xgb_binary_predictions)\n",
    "\n",
    "# Calculating Recall\n",
    "xgb_binary_recall = recall_score(normalized_test_data.iloc[:,-3], xgb_binary_predictions)"
   ]
  },
  {
   "cell_type": "code",
   "execution_count": 30,
   "metadata": {},
   "outputs": [
    {
     "data": {
      "text/plain": [
       "array([[ 44160,  11840],\n",
       "       [  5160, 114181]])"
      ]
     },
     "execution_count": 30,
     "metadata": {},
     "output_type": "execute_result"
    }
   ],
   "source": [
    "confusion_matrix(normalized_test_data.iloc[:,-3], xgb_binary_predictions)"
   ]
  },
  {
   "cell_type": "markdown",
   "metadata": {},
   "source": [
    "### 3) Random Forest - Multiclass classification"
   ]
  },
  {
   "cell_type": "markdown",
   "metadata": {},
   "source": [
    "#### We have kept the parameters for multiclass classification same as we got from Grid Search. Since it is multi class problem, we have added another parameter called \"class_weight\".\n",
    "#### 1) class_weight = 'balanced_subsample' -> classes are automatically weighted inversely proportional to how frequently they appear in the data."
   ]
  },
  {
   "cell_type": "markdown",
   "metadata": {},
   "source": [
    "#### Fitting the model"
   ]
  },
  {
   "cell_type": "code",
   "execution_count": 31,
   "metadata": {},
   "outputs": [
    {
     "data": {
      "text/plain": [
       "RandomForestClassifier(bootstrap=True, class_weight='balanced_subsample',\n",
       "            criterion='gini', max_depth=None, max_features=5,\n",
       "            max_leaf_nodes=150, min_impurity_decrease=0.0,\n",
       "            min_impurity_split=None, min_samples_leaf=100,\n",
       "            min_samples_split=100, min_weight_fraction_leaf=0.0,\n",
       "            n_estimators=80, n_jobs=1, oob_score=False, random_state=42,\n",
       "            verbose=0, warm_start=False)"
      ]
     },
     "execution_count": 31,
     "metadata": {},
     "output_type": "execute_result"
    }
   ],
   "source": [
    "rf_multiclass = RandomForestClassifier(n_estimators=80, random_state=42, criterion='gini', max_leaf_nodes=150, min_samples_leaf=100, min_samples_split=100, max_features=5, class_weight='balanced_subsample')\n",
    "rf_multiclass.fit(normalized_data.iloc[:,:-6], normalized_data.iloc[:,-1])"
   ]
  },
  {
   "cell_type": "markdown",
   "metadata": {},
   "source": [
    "#### Generating predictions"
   ]
  },
  {
   "cell_type": "code",
   "execution_count": 32,
   "metadata": {
    "collapsed": true
   },
   "outputs": [],
   "source": [
    "rf_multiclass_predictions = rf_multiclass.predict(normalized_test_data.iloc[:,:-3])"
   ]
  },
  {
   "cell_type": "markdown",
   "metadata": {},
   "source": [
    "#### Since it is a multiclass problem, we are storing the confusion matrices and AUC's for each attack category"
   ]
  },
  {
   "cell_type": "code",
   "execution_count": 33,
   "metadata": {},
   "outputs": [],
   "source": [
    "attack_labels = list(normalized_data.iloc[:,-1].unique())\n",
    "fpr_rf_multiclass = {}\n",
    "tpr_rf_multiclass = {}\n",
    "auc_rf_multiclass = {}\n",
    "rf_confusion_matrices = {}\n",
    "\n",
    "for l in attack_labels:\n",
    "    predicted = pd.Series(rf_multiclass_predictions).map({l:1}).fillna(0)\n",
    "    actual = pd.Series(normalized_test_data['attack_cat_labels']).map({l:1}).fillna(0)\n",
    "    rf_confusion_matrices[mapping[l]] = confusion_matrix(actual, predicted)\n",
    "    fpr_rf_multiclass[mapping[l]], tpr_rf_multiclass[mapping[l]], _ = roc_curve(actual, predicted)\n",
    "    auc_rf_multiclass[mapping[l]] = auc(fpr_rf_multiclass[mapping[l]], tpr_rf_multiclass[mapping[l]])"
   ]
  },
  {
   "cell_type": "markdown",
   "metadata": {},
   "source": [
    "#### Calculating Accuracy, Precision and Recall score"
   ]
  },
  {
   "cell_type": "code",
   "execution_count": 34,
   "metadata": {},
   "outputs": [],
   "source": [
    "# Calculating Accuracy\n",
    "rf_multi_accuracy = accuracy_score(normalized_test_data.iloc[:,-1], rf_multiclass_predictions)\n",
    "\n",
    "# Calculating Precision\n",
    "rf_multi_precision = precision_score(normalized_test_data.iloc[:,-1], rf_multiclass_predictions, average='weighted')\n",
    "\n",
    "# Calculating Recall\n",
    "rf_multi_recall = recall_score(normalized_test_data.iloc[:,-1], rf_multiclass_predictions, average='weighted')"
   ]
  },
  {
   "cell_type": "markdown",
   "metadata": {},
   "source": [
    "### 4) XGBoost - Multiclass classification"
   ]
  },
  {
   "cell_type": "markdown",
   "metadata": {},
   "source": [
    "#### Using the same principal components that were generated for Binary classification using XGBoost. "
   ]
  },
  {
   "cell_type": "code",
   "execution_count": 35,
   "metadata": {},
   "outputs": [
    {
     "data": {
      "text/html": [
       "<div>\n",
       "<style>\n",
       "    .dataframe thead tr:only-child th {\n",
       "        text-align: right;\n",
       "    }\n",
       "\n",
       "    .dataframe thead th {\n",
       "        text-align: left;\n",
       "    }\n",
       "\n",
       "    .dataframe tbody tr th {\n",
       "        vertical-align: top;\n",
       "    }\n",
       "</style>\n",
       "<table border=\"1\" class=\"dataframe\">\n",
       "  <thead>\n",
       "    <tr style=\"text-align: right;\">\n",
       "      <th></th>\n",
       "      <th>0</th>\n",
       "      <th>1</th>\n",
       "      <th>2</th>\n",
       "      <th>3</th>\n",
       "      <th>4</th>\n",
       "      <th>5</th>\n",
       "      <th>6</th>\n",
       "      <th>7</th>\n",
       "      <th>8</th>\n",
       "      <th>9</th>\n",
       "      <th>...</th>\n",
       "      <th>12</th>\n",
       "      <th>13</th>\n",
       "      <th>14</th>\n",
       "      <th>15</th>\n",
       "      <th>16</th>\n",
       "      <th>17</th>\n",
       "      <th>18</th>\n",
       "      <th>19</th>\n",
       "      <th>label</th>\n",
       "      <th>attack_cat_labels</th>\n",
       "    </tr>\n",
       "  </thead>\n",
       "  <tbody>\n",
       "    <tr>\n",
       "      <th>0</th>\n",
       "      <td>-0.868716</td>\n",
       "      <td>-0.512787</td>\n",
       "      <td>-0.112324</td>\n",
       "      <td>0.033466</td>\n",
       "      <td>-0.234440</td>\n",
       "      <td>0.073032</td>\n",
       "      <td>-0.081790</td>\n",
       "      <td>0.050215</td>\n",
       "      <td>0.081033</td>\n",
       "      <td>0.005153</td>\n",
       "      <td>...</td>\n",
       "      <td>-0.010975</td>\n",
       "      <td>-0.013544</td>\n",
       "      <td>-0.007035</td>\n",
       "      <td>0.004793</td>\n",
       "      <td>-0.014606</td>\n",
       "      <td>-0.026150</td>\n",
       "      <td>-0.016321</td>\n",
       "      <td>0.001294</td>\n",
       "      <td>0</td>\n",
       "      <td>6</td>\n",
       "    </tr>\n",
       "    <tr>\n",
       "      <th>1</th>\n",
       "      <td>1.129507</td>\n",
       "      <td>-0.235240</td>\n",
       "      <td>0.541919</td>\n",
       "      <td>0.066288</td>\n",
       "      <td>-0.000630</td>\n",
       "      <td>-0.019814</td>\n",
       "      <td>-0.004504</td>\n",
       "      <td>-0.002674</td>\n",
       "      <td>0.027285</td>\n",
       "      <td>0.014528</td>\n",
       "      <td>...</td>\n",
       "      <td>0.035432</td>\n",
       "      <td>-0.000055</td>\n",
       "      <td>0.014273</td>\n",
       "      <td>-0.124754</td>\n",
       "      <td>-0.043424</td>\n",
       "      <td>0.031566</td>\n",
       "      <td>-0.000947</td>\n",
       "      <td>-0.023769</td>\n",
       "      <td>1</td>\n",
       "      <td>5</td>\n",
       "    </tr>\n",
       "    <tr>\n",
       "      <th>2</th>\n",
       "      <td>0.875196</td>\n",
       "      <td>-0.017280</td>\n",
       "      <td>-0.356324</td>\n",
       "      <td>-0.114244</td>\n",
       "      <td>0.000584</td>\n",
       "      <td>-0.014870</td>\n",
       "      <td>-0.028280</td>\n",
       "      <td>-0.040720</td>\n",
       "      <td>0.021613</td>\n",
       "      <td>-0.025471</td>\n",
       "      <td>...</td>\n",
       "      <td>0.006963</td>\n",
       "      <td>-0.014506</td>\n",
       "      <td>-0.000988</td>\n",
       "      <td>-0.027303</td>\n",
       "      <td>0.039837</td>\n",
       "      <td>-0.038950</td>\n",
       "      <td>-0.000146</td>\n",
       "      <td>0.019408</td>\n",
       "      <td>1</td>\n",
       "      <td>5</td>\n",
       "    </tr>\n",
       "    <tr>\n",
       "      <th>3</th>\n",
       "      <td>0.639253</td>\n",
       "      <td>0.681789</td>\n",
       "      <td>-0.160516</td>\n",
       "      <td>0.383142</td>\n",
       "      <td>-0.003487</td>\n",
       "      <td>-0.189475</td>\n",
       "      <td>-0.121062</td>\n",
       "      <td>0.050690</td>\n",
       "      <td>-0.094138</td>\n",
       "      <td>-0.076337</td>\n",
       "      <td>...</td>\n",
       "      <td>-0.015092</td>\n",
       "      <td>-0.010298</td>\n",
       "      <td>-0.014680</td>\n",
       "      <td>0.089557</td>\n",
       "      <td>-0.077313</td>\n",
       "      <td>-0.031635</td>\n",
       "      <td>-0.006099</td>\n",
       "      <td>-0.026306</td>\n",
       "      <td>0</td>\n",
       "      <td>6</td>\n",
       "    </tr>\n",
       "    <tr>\n",
       "      <th>4</th>\n",
       "      <td>0.819580</td>\n",
       "      <td>0.005650</td>\n",
       "      <td>-0.506277</td>\n",
       "      <td>-0.107529</td>\n",
       "      <td>0.001734</td>\n",
       "      <td>-0.000040</td>\n",
       "      <td>0.035115</td>\n",
       "      <td>0.105919</td>\n",
       "      <td>0.034869</td>\n",
       "      <td>0.148769</td>\n",
       "      <td>...</td>\n",
       "      <td>0.288038</td>\n",
       "      <td>0.857432</td>\n",
       "      <td>-0.057363</td>\n",
       "      <td>0.036974</td>\n",
       "      <td>-0.034983</td>\n",
       "      <td>0.051976</td>\n",
       "      <td>-0.113118</td>\n",
       "      <td>0.020571</td>\n",
       "      <td>1</td>\n",
       "      <td>3</td>\n",
       "    </tr>\n",
       "  </tbody>\n",
       "</table>\n",
       "<p>5 rows × 22 columns</p>\n",
       "</div>"
      ],
      "text/plain": [
       "          0         1         2         3         4         5         6  \\\n",
       "0 -0.868716 -0.512787 -0.112324  0.033466 -0.234440  0.073032 -0.081790   \n",
       "1  1.129507 -0.235240  0.541919  0.066288 -0.000630 -0.019814 -0.004504   \n",
       "2  0.875196 -0.017280 -0.356324 -0.114244  0.000584 -0.014870 -0.028280   \n",
       "3  0.639253  0.681789 -0.160516  0.383142 -0.003487 -0.189475 -0.121062   \n",
       "4  0.819580  0.005650 -0.506277 -0.107529  0.001734 -0.000040  0.035115   \n",
       "\n",
       "          7         8         9        ...                12        13  \\\n",
       "0  0.050215  0.081033  0.005153        ...         -0.010975 -0.013544   \n",
       "1 -0.002674  0.027285  0.014528        ...          0.035432 -0.000055   \n",
       "2 -0.040720  0.021613 -0.025471        ...          0.006963 -0.014506   \n",
       "3  0.050690 -0.094138 -0.076337        ...         -0.015092 -0.010298   \n",
       "4  0.105919  0.034869  0.148769        ...          0.288038  0.857432   \n",
       "\n",
       "         14        15        16        17        18        19  label  \\\n",
       "0 -0.007035  0.004793 -0.014606 -0.026150 -0.016321  0.001294      0   \n",
       "1  0.014273 -0.124754 -0.043424  0.031566 -0.000947 -0.023769      1   \n",
       "2 -0.000988 -0.027303  0.039837 -0.038950 -0.000146  0.019408      1   \n",
       "3 -0.014680  0.089557 -0.077313 -0.031635 -0.006099 -0.026306      0   \n",
       "4 -0.057363  0.036974 -0.034983  0.051976 -0.113118  0.020571      1   \n",
       "\n",
       "   attack_cat_labels  \n",
       "0                  6  \n",
       "1                  5  \n",
       "2                  5  \n",
       "3                  6  \n",
       "4                  3  \n",
       "\n",
       "[5 rows x 22 columns]"
      ]
     },
     "execution_count": 35,
     "metadata": {},
     "output_type": "execute_result"
    }
   ],
   "source": [
    "xgb_principal_components = pd.concat([principal_components, pd.DataFrame(normalized_data.iloc[:,-1])], axis=1)\n",
    "xgb_principal_components.head()"
   ]
  },
  {
   "cell_type": "markdown",
   "metadata": {},
   "source": [
    "#### Parameter Selection -\n",
    "#### 1) colsample_bytree = 0.3 -> To avoid some columns from taking too much credit for prediction, we keep this value to be 0.3 and not more.\n",
    "#### 2) objective = 'multi:softprob' -> Multi because we are performing Multiclass calssification and softprob since we want probabilities for each class.\n",
    "#### 3) max_depth = 4 -> SInce we are selecting top 5 eigen vectors, we go ahead with a maximum depth of 4.\n",
    "#### 4) num_class = 10 -> This is set to 10 since we have 10 types labels for network packets.\n",
    "#### 5) eta = 0.3 -> We have kept learning rate to 0.3 and increased the number of rounds to 100 for the model to learn."
   ]
  },
  {
   "cell_type": "code",
   "execution_count": 36,
   "metadata": {},
   "outputs": [],
   "source": [
    "# Creating DMatrix for train and test data.\n",
    "xgb_dtrain = xgb.DMatrix(xgb_principal_components.iloc[:,:5], label=xgb_principal_components['attack_cat_labels'])\n",
    "xgb_dtest = xgb.DMatrix(test_components.iloc[:,:5], label=normalized_test_data.iloc[:,-1])\n",
    "\n",
    "# Parameters for the model\n",
    "param1 = {'colsample_bytree': 0.3,\n",
    "         'silent': True,\n",
    "         'eta':0.3,\n",
    "         'objective':'multi:softprob',\n",
    "         'max_depth':4,\n",
    "         'num_class':10\n",
    "        }\n",
    "num_rounds1 = 100"
   ]
  },
  {
   "cell_type": "markdown",
   "metadata": {},
   "source": [
    "#### Training the XGBoost model "
   ]
  },
  {
   "cell_type": "code",
   "execution_count": 37,
   "metadata": {},
   "outputs": [],
   "source": [
    "xgb_multiclass = xgb.train(param1, xgb_dtrain, num_rounds1)"
   ]
  },
  {
   "cell_type": "markdown",
   "metadata": {},
   "source": [
    "#### Generating predictions and converting them to class labels"
   ]
  },
  {
   "cell_type": "code",
   "execution_count": 38,
   "metadata": {
    "collapsed": true
   },
   "outputs": [],
   "source": [
    "xgb_multiclass_predictions = xgb_multiclass.predict(xgb_dtest)\n",
    "pred_label = np.argmax(xgb_multiclass_predictions, axis=1)"
   ]
  },
  {
   "cell_type": "markdown",
   "metadata": {},
   "source": [
    "#### Calculating Accuracy, Precision and Recall score"
   ]
  },
  {
   "cell_type": "code",
   "execution_count": 39,
   "metadata": {},
   "outputs": [],
   "source": [
    "# Calculating Accuracy\n",
    "xgb_multi_accuracy = accuracy_score(normalized_test_data.iloc[:,-1], pred_label)\n",
    "\n",
    "# Calculating Precision\n",
    "xgb_multi_precision = precision_score(normalized_test_data.iloc[:,-1], pred_label, average='weighted')\n",
    "\n",
    "# Calculating Recall\n",
    "xgb_multi_recall = recall_score(normalized_test_data.iloc[:,-1], pred_label, average='weighted')"
   ]
  },
  {
   "cell_type": "markdown",
   "metadata": {
    "collapsed": true
   },
   "source": [
    "# Visualizing the results"
   ]
  },
  {
   "cell_type": "markdown",
   "metadata": {},
   "source": [
    "## A) Binary Classification Results"
   ]
  },
  {
   "cell_type": "markdown",
   "metadata": {},
   "source": [
    "### 1) Confusion Matrix"
   ]
  },
  {
   "cell_type": "markdown",
   "metadata": {},
   "source": [
    "#### Random Forest"
   ]
  },
  {
   "cell_type": "code",
   "execution_count": 40,
   "metadata": {},
   "outputs": [
    {
     "data": {
      "text/html": [
       "<div>\n",
       "<style>\n",
       "    .dataframe thead tr:only-child th {\n",
       "        text-align: right;\n",
       "    }\n",
       "\n",
       "    .dataframe thead th {\n",
       "        text-align: left;\n",
       "    }\n",
       "\n",
       "    .dataframe tbody tr th {\n",
       "        vertical-align: top;\n",
       "    }\n",
       "</style>\n",
       "<table border=\"1\" class=\"dataframe\">\n",
       "  <thead>\n",
       "    <tr style=\"text-align: right;\">\n",
       "      <th></th>\n",
       "      <th>Predicted NO</th>\n",
       "      <th>Predicted YES</th>\n",
       "    </tr>\n",
       "  </thead>\n",
       "  <tbody>\n",
       "    <tr>\n",
       "      <th>Actual NO</th>\n",
       "      <td>54222</td>\n",
       "      <td>1778</td>\n",
       "    </tr>\n",
       "    <tr>\n",
       "      <th>Actual YES</th>\n",
       "      <td>15908</td>\n",
       "      <td>103433</td>\n",
       "    </tr>\n",
       "  </tbody>\n",
       "</table>\n",
       "</div>"
      ],
      "text/plain": [
       "            Predicted NO  Predicted YES\n",
       "Actual NO          54222           1778\n",
       "Actual YES         15908         103433"
      ]
     },
     "execution_count": 40,
     "metadata": {},
     "output_type": "execute_result"
    }
   ],
   "source": [
    "rf_cm = pd.DataFrame(confusion_matrix(normalized_test_data.iloc[:,-3:-2], rf_binary_predictions))\n",
    "rf_cm.columns = ['Predicted NO', 'Predicted YES']\n",
    "rf_cm.index = ['Actual NO', 'Actual YES']\n",
    "rf_cm"
   ]
  },
  {
   "cell_type": "markdown",
   "metadata": {},
   "source": [
    "#### XGBoost"
   ]
  },
  {
   "cell_type": "code",
   "execution_count": 41,
   "metadata": {},
   "outputs": [
    {
     "data": {
      "text/html": [
       "<div>\n",
       "<style>\n",
       "    .dataframe thead tr:only-child th {\n",
       "        text-align: right;\n",
       "    }\n",
       "\n",
       "    .dataframe thead th {\n",
       "        text-align: left;\n",
       "    }\n",
       "\n",
       "    .dataframe tbody tr th {\n",
       "        vertical-align: top;\n",
       "    }\n",
       "</style>\n",
       "<table border=\"1\" class=\"dataframe\">\n",
       "  <thead>\n",
       "    <tr style=\"text-align: right;\">\n",
       "      <th></th>\n",
       "      <th>Predicted NO</th>\n",
       "      <th>Predicted YES</th>\n",
       "    </tr>\n",
       "  </thead>\n",
       "  <tbody>\n",
       "    <tr>\n",
       "      <th>Actual NO</th>\n",
       "      <td>44160</td>\n",
       "      <td>11840</td>\n",
       "    </tr>\n",
       "    <tr>\n",
       "      <th>Actual YES</th>\n",
       "      <td>5160</td>\n",
       "      <td>114181</td>\n",
       "    </tr>\n",
       "  </tbody>\n",
       "</table>\n",
       "</div>"
      ],
      "text/plain": [
       "            Predicted NO  Predicted YES\n",
       "Actual NO          44160          11840\n",
       "Actual YES          5160         114181"
      ]
     },
     "execution_count": 41,
     "metadata": {},
     "output_type": "execute_result"
    }
   ],
   "source": [
    "xgb_cm = pd.DataFrame(confusion_matrix(normalized_test_data.iloc[:,-3:-2], xgb_binary_predictions))\n",
    "xgb_cm.columns = ['Predicted NO', 'Predicted YES']\n",
    "xgb_cm.index = ['Actual NO', 'Actual YES']\n",
    "xgb_cm"
   ]
  },
  {
   "cell_type": "markdown",
   "metadata": {},
   "source": [
    "#### We concluded the following from the above confusion matrices:\n",
    "#### a) Both the models in general perform really good since both of them have a higher count for both \"True Positive\" and \"True Negative\". \n",
    "\n",
    "#### b) XGBoost performs better than Random Forest since it produces fewer \"False Negatives\". In our scenario, it is imortant to have fewer \"False Negatives\", i.e we don't want to classify a malicious packet as normal. \"False Positives\" on the other hand are less important and hence we can deal with a slightly higher count for them."
   ]
  },
  {
   "cell_type": "markdown",
   "metadata": {},
   "source": [
    "### 2) Accuracy vs Precision vs Recall "
   ]
  },
  {
   "cell_type": "code",
   "execution_count": 42,
   "metadata": {},
   "outputs": [],
   "source": [
    "# Creating a Data Frame for storing results\n",
    "results_1 = pd.DataFrame(index=['Random Forest', 'XGBoost'], columns=['Accuracy', 'Precision', 'Recall'])\n",
    "\n",
    "# Storing results for Random Forest model\n",
    "results_1.loc['Random Forest']['Accuracy'] = str(rf_binary_accuracy*100)+\"%\"\n",
    "results_1.loc['Random Forest']['Precision'] = str(rf_binary_precision*100)+\"%\"\n",
    "results_1.loc['Random Forest']['Recall'] = str(rf_binary_recall*100)+\"%\"\n",
    "\n",
    "# Storing results for XGBoost model\n",
    "results_1.loc['XGBoost']['Accuracy'] = str(xgb_binary_accuracy*100)+\"%\"\n",
    "results_1.loc['XGBoost']['Precision'] = str(xgb_binary_precision*100)+\"%\"\n",
    "results_1.loc['XGBoost']['Recall'] = str(xgb_binary_recall*100)+\"%\""
   ]
  },
  {
   "cell_type": "code",
   "execution_count": 43,
   "metadata": {},
   "outputs": [
    {
     "data": {
      "text/html": [
       "<div>\n",
       "<style>\n",
       "    .dataframe thead tr:only-child th {\n",
       "        text-align: right;\n",
       "    }\n",
       "\n",
       "    .dataframe thead th {\n",
       "        text-align: left;\n",
       "    }\n",
       "\n",
       "    .dataframe tbody tr th {\n",
       "        vertical-align: top;\n",
       "    }\n",
       "</style>\n",
       "<table border=\"1\" class=\"dataframe\">\n",
       "  <thead>\n",
       "    <tr style=\"text-align: right;\">\n",
       "      <th></th>\n",
       "      <th>Accuracy</th>\n",
       "      <th>Precision</th>\n",
       "      <th>Recall</th>\n",
       "    </tr>\n",
       "  </thead>\n",
       "  <tbody>\n",
       "    <tr>\n",
       "      <th>Random Forest</th>\n",
       "      <td>89.9133688071%</td>\n",
       "      <td>91.6051595358%</td>\n",
       "      <td>89.9133688071%</td>\n",
       "    </tr>\n",
       "    <tr>\n",
       "      <th>XGBoost</th>\n",
       "      <td>90.3046064526%</td>\n",
       "      <td>90.6047404798%</td>\n",
       "      <td>95.6762554361%</td>\n",
       "    </tr>\n",
       "  </tbody>\n",
       "</table>\n",
       "</div>"
      ],
      "text/plain": [
       "                     Accuracy       Precision          Recall\n",
       "Random Forest  89.9133688071%  91.6051595358%  89.9133688071%\n",
       "XGBoost        90.3046064526%  90.6047404798%  95.6762554361%"
      ]
     },
     "execution_count": 43,
     "metadata": {},
     "output_type": "execute_result"
    }
   ],
   "source": [
    "results_1"
   ]
  },
  {
   "cell_type": "markdown",
   "metadata": {},
   "source": [
    "#### Our conclusion drawn from the confusion matrices is backed up here by looking at the \"Accuracy\", \"Precision\" and \"Recall\" scores. Both the models have really good accuracy scores. And, the performance of XGBoost is slightly better since it has a higher \"Recall\" score than Random Forest."
   ]
  },
  {
   "cell_type": "markdown",
   "metadata": {},
   "source": [
    "### 3) Area Under ROC"
   ]
  },
  {
   "cell_type": "code",
   "execution_count": 44,
   "metadata": {},
   "outputs": [
    {
     "data": {
      "image/png": "[encoded data removed]",
      "text/plain": [
       "<matplotlib.figure.Figure at 0x11598d518>"
      ]
     },
     "metadata": {},
     "output_type": "display_data"
    }
   ],
   "source": [
    "# Function to plot ROC curve\n",
    "def plotAUCCurve(actual, predictions, color, model_name):\n",
    "    fpr, tpr, threshold = roc_curve(actual, predictions)\n",
    "    area = auc(fpr, tpr)\n",
    "    plt.plot(fpr, tpr, color=color, lw=2, label= model_name+' (AUC = %0.2f)' % area)\n",
    "    plt.plot([0, 1], [0, 1], 'k--')\n",
    "    plt.xlim([0.0,1.0])\n",
    "    plt.ylim([0.0,1.0])\n",
    "    plt.xlabel(\"FPR\")\n",
    "    plt.ylabel(\"TPR\")\n",
    "    plt.title(\"ROC Curve\")\n",
    "    plt.legend(loc=\"lower right\")\n",
    "\n",
    "\n",
    "# Calling function to plot ROC's for Random Forest and XGBoost\n",
    "plotAUCCurve(normalized_test_data.iloc[:,-3:-2], rf_binary_predictions, \"red\", \"Random Forest\")\n",
    "plotAUCCurve(normalized_test_data.iloc[:,-3:-2], xgb_binary_predictions, \"blue\", \"XGBoost\")\n",
    "plt.show()"
   ]
  },
  {
   "cell_type": "markdown",
   "metadata": {},
   "source": [
    "#### Once again, the performance of XGBoost is proven better. Although, it has a slightly lower AUC, it has a higher \"True Positive Rate\" compared to \"Random Forest\". For the problem of Network Intrusion Detection, we believe that TPR is more important than FPR."
   ]
  },
  {
   "cell_type": "markdown",
   "metadata": {},
   "source": [
    "## B) Multiclass Classification Results"
   ]
  },
  {
   "cell_type": "markdown",
   "metadata": {},
   "source": [
    "### 2) Accuracy vs Precision vs Recall"
   ]
  },
  {
   "cell_type": "code",
   "execution_count": 45,
   "metadata": {
    "collapsed": true
   },
   "outputs": [],
   "source": [
    "# Creating a Data Frame for storing results\n",
    "results_2 = pd.DataFrame(index=['Random Forest', 'XGBoost'], columns=['Accuracy', 'Precision', 'Recall'])\n",
    "\n",
    "# Storing results for Random Forest model\n",
    "results_2.loc['Random Forest']['Accuracy'] = str(rf_multi_accuracy*100)+\"%\"\n",
    "results_2.loc['Random Forest']['Precision'] = str(rf_multi_precision*100)+\"%\"\n",
    "results_2.loc['Random Forest']['Recall'] = str(rf_multi_recall*100)+\"%\"\n",
    "\n",
    "# Storing results for XGBoost model\n",
    "results_2.loc['XGBoost']['Accuracy'] = str(xgb_multi_accuracy*100)+\"%\"\n",
    "results_2.loc['XGBoost']['Precision'] = str(xgb_multi_precision*100)+\"%\"\n",
    "results_2.loc['XGBoost']['Recall'] = str(xgb_multi_recall*100)+\"%\""
   ]
  },
  {
   "cell_type": "code",
   "execution_count": 46,
   "metadata": {},
   "outputs": [
    {
     "data": {
      "text/html": [
       "<div>\n",
       "<style>\n",
       "    .dataframe thead tr:only-child th {\n",
       "        text-align: right;\n",
       "    }\n",
       "\n",
       "    .dataframe thead th {\n",
       "        text-align: left;\n",
       "    }\n",
       "\n",
       "    .dataframe tbody tr th {\n",
       "        vertical-align: top;\n",
       "    }\n",
       "</style>\n",
       "<table border=\"1\" class=\"dataframe\">\n",
       "  <thead>\n",
       "    <tr style=\"text-align: right;\">\n",
       "      <th></th>\n",
       "      <th>Accuracy</th>\n",
       "      <th>Precision</th>\n",
       "      <th>Recall</th>\n",
       "    </tr>\n",
       "  </thead>\n",
       "  <tbody>\n",
       "    <tr>\n",
       "      <th>Random Forest</th>\n",
       "      <td>71.8371630138%</td>\n",
       "      <td>79.4672936935%</td>\n",
       "      <td>71.8371630138%</td>\n",
       "    </tr>\n",
       "    <tr>\n",
       "      <th>XGBoost</th>\n",
       "      <td>52.5598690552%</td>\n",
       "      <td>42.9791060201%</td>\n",
       "      <td>52.5598690552%</td>\n",
       "    </tr>\n",
       "  </tbody>\n",
       "</table>\n",
       "</div>"
      ],
      "text/plain": [
       "                     Accuracy       Precision          Recall\n",
       "Random Forest  71.8371630138%  79.4672936935%  71.8371630138%\n",
       "XGBoost        52.5598690552%  42.9791060201%  52.5598690552%"
      ]
     },
     "execution_count": 46,
     "metadata": {},
     "output_type": "execute_result"
    }
   ],
   "source": [
    "results_2"
   ]
  },
  {
   "cell_type": "markdown",
   "metadata": {},
   "source": [
    "#### Although not performing at its best, Random Forest still beats XGBoost while performing Multiclass classification. The reason for this can be attributed to higher class imbalance in that data."
   ]
  },
  {
   "cell_type": "markdown",
   "metadata": {},
   "source": [
    "### 3) Area Under ROC"
   ]
  },
  {
   "cell_type": "markdown",
   "metadata": {},
   "source": [
    "#### Random Forest"
   ]
  },
  {
   "cell_type": "code",
   "execution_count": 47,
   "metadata": {},
   "outputs": [
    {
     "data": {
      "image/png": "[encoded data removed]",
      "text/plain": [
       "<matplotlib.figure.Figure at 0x114526320>"
      ]
     },
     "metadata": {},
     "output_type": "display_data"
    }
   ],
   "source": [
    "# Function to plot ROC curve\n",
    "def plotAUCCurve(actual, predictions, model_name, l):\n",
    "    fpr, tpr, threshold = roc_curve(actual, predictions)\n",
    "    area = auc(fpr, tpr)\n",
    "    plt.plot(fpr, tpr, lw=2, label= l+' (AUC = %0.2f)' % area)\n",
    "    plt.plot([0, 1], [0, 1])\n",
    "    plt.xlim([0.0,1.0])\n",
    "    plt.ylim([0.0,1.0])\n",
    "    plt.xlabel(\"FPR\")\n",
    "    plt.ylabel(\"TPR\")\n",
    "    plt.title(\"ROC Curve\")\n",
    "    plt.legend(loc=\"lower right\")\n",
    "\n",
    "plt.figure(figsize=(8,6))\n",
    "for l in attack_labels:\n",
    "    predicted = pd.Series(rf_multiclass_predictions).map({l:1}).fillna(0)\n",
    "    actual = pd.Series(normalized_test_data['attack_cat_labels']).map({l:1}).fillna(0)\n",
    "    plotAUCCurve(actual, predicted, \"Random Forest\", mapping[l])\n",
    "plt.show()"
   ]
  },
  {
   "cell_type": "markdown",
   "metadata": {},
   "source": [
    "#### XGBoost"
   ]
  },
  {
   "cell_type": "code",
   "execution_count": 48,
   "metadata": {},
   "outputs": [
    {
     "data": {
      "image/png": "[encoded data removed]",
      "text/plain": [
       "<matplotlib.figure.Figure at 0x11446ef98>"
      ]
     },
     "metadata": {},
     "output_type": "display_data"
    }
   ],
   "source": [
    "plt.figure(figsize=(8,6))\n",
    "for l in attack_labels:\n",
    "    predicted = pd.Series(pred_label).map({l:1}).fillna(0)\n",
    "    actual = pd.Series(normalized_test_data['attack_cat_labels']).map({l:1}).fillna(0)\n",
    "    plotAUCCurve(actual, predicted, \"XGBoost\", mapping[l])\n",
    "plt.show()"
   ]
  },
  {
   "cell_type": "markdown",
   "metadata": {},
   "source": [
    "#### From the ROC's shown above we can conclude that both the models underperform for some common Network attack types such as \"Backdoor\", \"Analysis\", \"Reconnaissance\". The probable reason for this can be the lower count of network packets with these specific attack categories. "
   ]
  },
  {
   "cell_type": "code",
   "execution_count": null,
   "metadata": {
    "collapsed": true
   },
   "outputs": [],
   "source": []
  }
 ],
 "metadata": {
  "kernelspec": {
   "display_name": "Python 3",
   "language": "python",
   "name": "python3"
  },
  "language_info": {
   "codemirror_mode": {
    "name": "ipython",
    "version": 3
   },
   "file_extension": ".py",
   "mimetype": "text/x-python",
   "name": "python",
   "nbconvert_exporter": "python",
   "pygments_lexer": "ipython3",
   "version": "3.6.2"
  }
 },
 "nbformat": 4,
 "nbformat_minor": 2
}
